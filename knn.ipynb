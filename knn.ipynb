{
 "cells": [
  {
   "cell_type": "code",
   "execution_count": 1,
   "metadata": {},
   "outputs": [],
   "source": [
    "from sklearn.neighbors import KNeighborsClassifier\n",
    "import pandas as pd\n",
    "from sklearn.preprocessing import MinMaxScaler\n",
    "import numpy as np\n",
    "import matplotlib.pyplot as plt\n",
    "from sklearn.model_selection import train_test_split\n",
    "import optuna\n",
    "import seaborn as sns\n",
    "from sklearn.metrics import accuracy_score"
   ]
  },
  {
   "cell_type": "markdown",
   "metadata": {},
   "source": [
    "# Набор данных"
   ]
  },
  {
   "cell_type": "code",
   "execution_count": 2,
   "metadata": {},
   "outputs": [
    {
     "name": "stderr",
     "output_type": "stream",
     "text": [
      "C:\\Users\\kapgo\\AppData\\Local\\Temp\\ipykernel_2580\\341981361.py:6: FutureWarning: Downcasting behavior in `replace` is deprecated and will be removed in a future version. To retain the old behavior, explicitly call `result.infer_objects(copy=False)`. To opt-in to the future behavior, set `pd.set_option('future.no_silent_downcasting', True)`\n",
      "  df.replace(replacement_map, inplace=True)\n"
     ]
    },
    {
     "data": {
      "image/png": "[encoded data removed]",
      "text/plain": [
       "<Figure size 640x480 with 1 Axes>"
      ]
     },
     "metadata": {},
     "output_type": "display_data"
    }
   ],
   "source": [
    "df = pd.read_csv('male_players.csv')\n",
    "df = df.head(300)\n",
    "df.drop(columns=['n','Name', 'URL', 'GK', 'Gender', 'Club', 'Nation'], inplace=True)\n",
    "df = pd.get_dummies(df, columns=['Preferred foot'])\n",
    "replacement_map = {'Low': 0, 'Medium': 0.5, 'High': 1}\n",
    "df.replace(replacement_map, inplace=True)\n",
    "numerical_cols = df.select_dtypes(include=['int', 'float']).columns\n",
    "scaler = MinMaxScaler()\n",
    "df[numerical_cols] = scaler.fit_transform(df[numerical_cols])\n",
    "df.dropna(inplace=True)\n",
    "position_mapping = {\n",
    "    'CAM': 'Midfield',\n",
    "    'CB': 'Defend',\n",
    "    'CDM': 'Midfield',\n",
    "    'CF': 'Attack',\n",
    "    'CM': 'Midfield',\n",
    "    'GK': 'Goalkeeper',\n",
    "    'LB': 'Defend',\n",
    "    'LM': 'Midfield',\n",
    "    'LW': 'Attack',\n",
    "    'LWB': 'Defend',\n",
    "    'RB': 'Defend',\n",
    "    'RM': 'Midfield',\n",
    "    'RW': 'Attack',\n",
    "    'RWB': 'Defend',\n",
    "    'ST': 'Attack'\n",
    "}\n",
    "df['Position'] = df['Position'].replace(position_mapping)\n",
    "\n",
    "X = df.drop('Position', axis=1).to_numpy()\n",
    "target = df['Position'].to_numpy()\n",
    "\n",
    "sns.countplot(target)\n",
    "plt.show()"
   ]
  },
  {
   "cell_type": "code",
   "execution_count": 3,
   "metadata": {},
   "outputs": [],
   "source": [
    "X_train_temp, X_test, y_train_temp, y_test = train_test_split(X, target, test_size=0.2, random_state=42)\n",
    "\n",
    "X_train, X_valid, y_train, y_valid = train_test_split(X_train_temp, y_train_temp, test_size=0.2, random_state=42)\n"
   ]
  },
  {
   "cell_type": "code",
   "execution_count": 4,
   "metadata": {},
   "outputs": [
    {
     "data": {
      "text/plain": [
       "array(['Attack', 'Defend', 'Goalkeeper', 'Midfield'], dtype=object)"
      ]
     },
     "execution_count": 4,
     "metadata": {},
     "output_type": "execute_result"
    }
   ],
   "source": [
    "np.unique(target)"
   ]
  },
  {
   "cell_type": "markdown",
   "metadata": {},
   "source": [
    "# Расстояние Минковского"
   ]
  },
  {
   "cell_type": "markdown",
   "metadata": {},
   "source": [
    "$$D = \\left( \\sum_{i=1}^{n} |x_{i}^{(A)} - x_{i}^{(B)}|^p \\right)^{\\frac{1}{p}}$$\n"
   ]
  },
  {
   "cell_type": "code",
   "execution_count": 5,
   "metadata": {},
   "outputs": [],
   "source": [
    "def minkowski_distance(x1: np.array, x2: np.array, p=2):\n",
    "    return np.power(np.sum(np.abs(x1 - x2) ** p), 1/p)"
   ]
  },
  {
   "cell_type": "markdown",
   "metadata": {},
   "source": [
    "# Косинусное расстояние"
   ]
  },
  {
   "cell_type": "markdown",
   "metadata": {},
   "source": [
    "$$\n",
    "D = 1 - \\frac{A \\cdot B}{\\|A\\| \\|B\\|}\n",
    "$$\n"
   ]
  },
  {
   "cell_type": "code",
   "execution_count": 6,
   "metadata": {},
   "outputs": [],
   "source": [
    "def cosine_distance(x1, x2):\n",
    "    dot_product = np.dot(x1, x2)\n",
    "    norm_x1 = np.linalg.norm(x1)\n",
    "    norm_x2 = np.linalg.norm(x2)\n",
    "    cosine_similarity = dot_product / (norm_x1 * norm_x2)\n",
    "    cosine_distance = 1 - cosine_similarity\n",
    "    return cosine_distance"
   ]
  },
  {
   "cell_type": "markdown",
   "metadata": {},
   "source": [
    "# Расстояние Чебышева"
   ]
  },
  {
   "cell_type": "markdown",
   "metadata": {},
   "source": [
    "$$\n",
    "ρ(a, b) = max_i |a_i - b_i|\n",
    "\n",
    "$$"
   ]
  },
  {
   "cell_type": "code",
   "execution_count": 7,
   "metadata": {},
   "outputs": [],
   "source": [
    "def chebyshev_distance(x, y):\n",
    "    return np.max(np.abs(x - y))   "
   ]
  },
  {
   "cell_type": "markdown",
   "metadata": {},
   "source": [
    "# Равномерное ядро"
   ]
  },
  {
   "cell_type": "markdown",
   "metadata": {},
   "source": [
    "$$\n",
    "Uniform(u) = \\frac{1}{2} \\cdot [u \\lt 1]\n",
    "$$"
   ]
  },
  {
   "cell_type": "code",
   "execution_count": 8,
   "metadata": {},
   "outputs": [],
   "source": [
    "def uniform_kernel(u):\n",
    "    return 0.5 * np.where(np.abs(u) < 1, 1, 0)"
   ]
  },
  {
   "cell_type": "markdown",
   "metadata": {},
   "source": [
    "# Треугольное ядро"
   ]
  },
  {
   "cell_type": "markdown",
   "metadata": {},
   "source": [
    "$$\n",
    "Triangular(u) = (1 - |u|) \\cdot [u \\lt 1]\n",
    "$$"
   ]
  },
  {
   "cell_type": "code",
   "execution_count": 9,
   "metadata": {},
   "outputs": [],
   "source": [
    "def triangular_kernel(u):\n",
    "    return np.maximum(1 - np.abs(u), 0)"
   ]
  },
  {
   "cell_type": "markdown",
   "metadata": {},
   "source": [
    "# Ядро Епанечникова"
   ]
  },
  {
   "cell_type": "markdown",
   "metadata": {},
   "source": [
    "$$\n",
    " Epanechnikov(u) = \\frac{3}{4} \\cdot (1 - u^2) \\cdot [u \\lt 1]\n",
    "$$"
   ]
  },
  {
   "cell_type": "code",
   "execution_count": 10,
   "metadata": {},
   "outputs": [],
   "source": [
    "def epanechnikov_kernel(u):\n",
    "    return 3/4*(1-u**2)*np.where(np.abs(u) < 1, 1, 0)"
   ]
  },
  {
   "cell_type": "markdown",
   "metadata": {},
   "source": [
    "# Гауссово ядро"
   ]
  },
  {
   "cell_type": "markdown",
   "metadata": {},
   "source": [
    "$$\n",
    "Gaussian(u) = \\frac{1}{\\sqrt{2\\pi}} \\cdot exp(\\frac{-u^2}{2})\n",
    "$$"
   ]
  },
  {
   "cell_type": "code",
   "execution_count": 11,
   "metadata": {},
   "outputs": [],
   "source": [
    "def gaussian_kernel(u):\n",
    "    return (1 / np.sqrt(2 * np.pi)) * np.exp(-0.5 * u ** 2)"
   ]
  },
  {
   "cell_type": "code",
   "execution_count": 12,
   "metadata": {},
   "outputs": [
    {
     "data": {
      "image/png": "[encoded data removed]",
      "text/plain": [
       "<Figure size 1000x600 with 1 Axes>"
      ]
     },
     "metadata": {},
     "output_type": "display_data"
    }
   ],
   "source": [
    "u_values = np.linspace(-2, 2, 1000)\n",
    "\n",
    "uniform_kernel_values = uniform_kernel(u_values)\n",
    "triangular_kernel_values = triangular_kernel(u_values)\n",
    "gaussian_kernel_values = gaussian_kernel(u_values)\n",
    "epanechnikov_kernel_values = epanechnikov_kernel(u_values)\n",
    "\n",
    "plt.figure(figsize=(10, 6))\n",
    "plt.plot(u_values, uniform_kernel_values, label='Uniform Kernel')\n",
    "plt.plot(u_values, triangular_kernel_values, label='Triangular Kernel')\n",
    "plt.plot(u_values, epanechnikov_kernel_values, label='Epanechnikov Kernel')\n",
    "plt.plot(u_values, gaussian_kernel_values, label='Gaussian Kernel')\n",
    "\n",
    "plt.xlabel('u')\n",
    "plt.ylabel('Kernel Value')\n",
    "plt.legend()\n",
    "plt.grid(True)\n",
    "plt.show()\n"
   ]
  },
  {
   "cell_type": "markdown",
   "metadata": {},
   "source": [
    "# Алгоритм"
   ]
  },
  {
   "cell_type": "markdown",
   "metadata": {},
   "source": [
    "$$\n",
    "a(u; D_{\\text{train}}) = \\arg \\max_{y \\in Y} \\sum_{i=1}^{|D_{\\text{train}}|} \\left[ y(x_{(u,i)}) = y \\right] w_{(i, u)}\n",
    "$$\n"
   ]
  },
  {
   "cell_type": "markdown",
   "metadata": {},
   "source": [
    "# Окно Парзена-Розенблатта с фиксированной шириной окна"
   ]
  },
  {
   "cell_type": "markdown",
   "metadata": {},
   "source": [
    "$$\n",
    "a(u; D_{\\text{train}}; h; K) = \\arg \\max_{y \\in Y} \\sum_{i=1}^{|D_{\\text{train}}|} \\left[ y(x_{(u,i)}) = y \\right] K\\left( \\frac{\\rho(u, x_{(u,i)})}{h} \\right)\n",
    "$$"
   ]
  },
  {
   "cell_type": "code",
   "execution_count": 13,
   "metadata": {},
   "outputs": [],
   "source": [
    "def fixed_window(u, x, y, h, metric, kernel, aprior_weights):\n",
    "    classes = np.unique(y)\n",
    "    classes_count = {c: 0 for c in classes}\n",
    "\n",
    "    if aprior_weights is None:\n",
    "        aprior_weights = np.ones(len(x))\n",
    "    for i in range(len(x)):\n",
    "        weight = kernel(metric(u, x[i]) / h) * aprior_weights[i]\n",
    "        classes_count[y[i]] += weight\n",
    "    return max(classes_count, key=classes_count.get)"
   ]
  },
  {
   "cell_type": "markdown",
   "metadata": {},
   "source": [
    "# Окно Парзена-Розенблатта с нефиксированной шириной окна"
   ]
  },
  {
   "cell_type": "markdown",
   "metadata": {},
   "source": [
    "$$\n",
    "a(u; D_{\\text{train}}; k; K) = \\arg \\max_{y \\in Y} \\sum_{i=1}^{|D_{\\text{train}}|} \\left[ y(x_{(u,i)}) = y \\right] K\\left( \\frac{\\rho(u, x_{(u,i)})}{\\rho(u, x_{(u, k+1)})} \\right)\n",
    "$$\n"
   ]
  },
  {
   "cell_type": "code",
   "execution_count": 14,
   "metadata": {},
   "outputs": [],
   "source": [
    "def not_fixed_window(u, x, y, n_neighbors, metric, kernel, aprior_weights):\n",
    "    classes = np.unique(y)\n",
    "    classes_count = {c: 0 for c in classes}\n",
    "    distances = []\n",
    "    for n in x:\n",
    "        distances.append(metric(u, n))\n",
    "    distances.sort()    \n",
    "    if aprior_weights is None:\n",
    "        aprior_weights = np.ones(len(x))\n",
    "    for i in range(len(x)):\n",
    "        weight = kernel(metric(u, x[i]) / distances[n_neighbors + 1]) * aprior_weights[i]\n",
    "        classes_count[y[i]] += weight\n",
    "    return max(classes_count, key=classes_count.get)"
   ]
  },
  {
   "cell_type": "code",
   "execution_count": 15,
   "metadata": {},
   "outputs": [],
   "source": [
    "def knn_classifier(u, \n",
    "                   x, \n",
    "                   y, \n",
    "                   window=\"fixed\",\n",
    "                   n_neighbors=5,\n",
    "                   h=0.1,\n",
    "                   metric=\"minkowski_distance\",\n",
    "                   kernel=\"gaussian_kernel\",\n",
    "                   aprior_weights=None,\n",
    "                   p=2.0):\n",
    "    metric_map = {'minkowski_distance'   : lambda x, y: minkowski_distance(x, y, p),\n",
    "                  'cosine_distance'      : cosine_distance,\n",
    "                  'chebyshev_distance'   : chebyshev_distance}\n",
    "    metric = metric_map[metric]\n",
    "    kernel_map = {'uniform_kernel'      : uniform_kernel,\n",
    "                  'triangular_kernel'   : triangular_kernel,\n",
    "                  'epanechnikov_kernel' : epanechnikov_kernel,\n",
    "                  'gaussian_kernel'     : gaussian_kernel}\n",
    "    kernel = kernel_map[kernel]\n",
    "    if window == \"fixed\":\n",
    "        return fixed_window(u, x, y, h, metric, kernel, aprior_weights)\n",
    "    else:\n",
    "        return not_fixed_window(u, x, y, n_neighbors, metric, kernel, aprior_weights)"
   ]
  },
  {
   "cell_type": "markdown",
   "metadata": {},
   "source": [
    "# Подбор гиперпараметров"
   ]
  },
  {
   "cell_type": "code",
   "execution_count": 16,
   "metadata": {},
   "outputs": [
    {
     "name": "stderr",
     "output_type": "stream",
     "text": [
      "[I 2024-03-27 19:36:06,265] A new study created in memory with name: no-name-61cffb2a-06fc-4b9a-b1ce-90d4ba1d4a4c\n",
      "[I 2024-03-27 19:36:06,670] Trial 0 finished with value: 0.4791666666666667 and parameters: {'window': 'fixed', 'n_neighbors': 7, 'h': 0.011298058170404647, 'metric': 'minkowski_distance', 'kernel': 'gaussian_kernel', 'p': 2.9030853841190942}. Best is trial 0 with value: 0.4791666666666667.\n"
     ]
    },
    {
     "name": "stderr",
     "output_type": "stream",
     "text": [
      "[I 2024-03-27 19:36:07,065] Trial 1 finished with value: 0.7083333333333334 and parameters: {'window': 'not_fixed', 'n_neighbors': 14, 'h': 0.3815207305634288, 'metric': 'cosine_distance', 'kernel': 'gaussian_kernel', 'p': 1.095630403691836}. Best is trial 1 with value: 0.7083333333333334.\n",
      "[I 2024-03-27 19:36:07,340] Trial 2 finished with value: 0.16666666666666666 and parameters: {'window': 'fixed', 'n_neighbors': 2, 'h': 0.4496015196731632, 'metric': 'minkowski_distance', 'kernel': 'epanechnikov_kernel', 'p': 1.0012454743145855}. Best is trial 1 with value: 0.7083333333333334.\n",
      "[I 2024-03-27 19:36:07,798] Trial 3 finished with value: 0.625 and parameters: {'window': 'not_fixed', 'n_neighbors': 22, 'h': 0.7923676279210741, 'metric': 'minkowski_distance', 'kernel': 'gaussian_kernel', 'p': 3.1505004851455936}. Best is trial 1 with value: 0.7083333333333334.\n",
      "[I 2024-03-27 19:36:08,096] Trial 4 finished with value: 0.8958333333333334 and parameters: {'window': 'not_fixed', 'n_neighbors': 9, 'h': 0.8860530077760906, 'metric': 'cosine_distance', 'kernel': 'epanechnikov_kernel', 'p': 0.5524138383409064}. Best is trial 4 with value: 0.8958333333333334.\n",
      "[I 2024-03-27 19:36:08,334] Trial 5 finished with value: 0.16666666666666666 and parameters: {'window': 'fixed', 'n_neighbors': 14, 'h': 0.04682734786245653, 'metric': 'minkowski_distance', 'kernel': 'epanechnikov_kernel', 'p': 0.4412639274020158}. Best is trial 4 with value: 0.8958333333333334.\n",
      "[I 2024-03-27 19:36:08,548] Trial 6 finished with value: 0.4583333333333333 and parameters: {'window': 'fixed', 'n_neighbors': 1, 'h': 0.47221723797297066, 'metric': 'cosine_distance', 'kernel': 'epanechnikov_kernel', 'p': 3.028449393664276}. Best is trial 4 with value: 0.8958333333333334.\n",
      "[I 2024-03-27 19:36:08,952] Trial 7 finished with value: 0.8958333333333334 and parameters: {'window': 'not_fixed', 'n_neighbors': 17, 'h': 0.8223397653997051, 'metric': 'minkowski_distance', 'kernel': 'triangular_kernel', 'p': 4.246148695182059}. Best is trial 4 with value: 0.8958333333333334.\n",
      "[I 2024-03-27 19:36:09,094] Trial 8 finished with value: 0.4583333333333333 and parameters: {'window': 'fixed', 'n_neighbors': 28, 'h': 0.4924155756764082, 'metric': 'cosine_distance', 'kernel': 'gaussian_kernel', 'p': 2.309657186135737}. Best is trial 4 with value: 0.8958333333333334.\n",
      "[I 2024-03-27 19:36:09,458] Trial 9 finished with value: 0.8541666666666666 and parameters: {'window': 'not_fixed', 'n_neighbors': 22, 'h': 0.22617042056133768, 'metric': 'minkowski_distance', 'kernel': 'triangular_kernel', 'p': 2.608295383971196}. Best is trial 4 with value: 0.8958333333333334.\n",
      "[I 2024-03-27 19:36:09,805] Trial 10 finished with value: 0.875 and parameters: {'window': 'not_fixed', 'n_neighbors': 8, 'h': 0.99148605312825, 'metric': 'cosine_distance', 'kernel': 'uniform_kernel', 'p': 0.17562833589499616}. Best is trial 4 with value: 0.8958333333333334.\n",
      "[I 2024-03-27 19:36:10,046] Trial 11 finished with value: 0.875 and parameters: {'window': 'not_fixed', 'n_neighbors': 19, 'h': 0.7512585921152088, 'metric': 'cosine_distance', 'kernel': 'triangular_kernel', 'p': 4.8543986306691895}. Best is trial 4 with value: 0.8958333333333334.\n",
      "[I 2024-03-27 19:36:10,417] Trial 12 finished with value: 0.8333333333333334 and parameters: {'window': 'not_fixed', 'n_neighbors': 10, 'h': 0.7445039454509834, 'metric': 'minkowski_distance', 'kernel': 'triangular_kernel', 'p': 4.724149617018388}. Best is trial 4 with value: 0.8958333333333334.\n",
      "[I 2024-03-27 19:36:10,715] Trial 13 finished with value: 0.875 and parameters: {'window': 'not_fixed', 'n_neighbors': 17, 'h': 0.984516594700096, 'metric': 'cosine_distance', 'kernel': 'uniform_kernel', 'p': 3.9242259827723034}. Best is trial 4 with value: 0.8958333333333334.\n",
      "[I 2024-03-27 19:36:11,106] Trial 14 finished with value: 0.9166666666666666 and parameters: {'window': 'not_fixed', 'n_neighbors': 12, 'h': 0.652664709829133, 'metric': 'minkowski_distance', 'kernel': 'triangular_kernel', 'p': 1.7541791131587174}. Best is trial 14 with value: 0.9166666666666666.\n",
      "[I 2024-03-27 19:36:11,373] Trial 15 finished with value: 0.875 and parameters: {'window': 'not_fixed', 'n_neighbors': 11, 'h': 0.8745995674561058, 'metric': 'cosine_distance', 'kernel': 'epanechnikov_kernel', 'p': 1.7370869799727908}. Best is trial 14 with value: 0.9166666666666666.\n",
      "[I 2024-03-27 19:36:11,815] Trial 16 finished with value: 0.875 and parameters: {'window': 'not_fixed', 'n_neighbors': 5, 'h': 0.633339239393769, 'metric': 'minkowski_distance', 'kernel': 'epanechnikov_kernel', 'p': 1.7021484097282502}. Best is trial 14 with value: 0.9166666666666666.\n",
      "[I 2024-03-27 19:36:12,052] Trial 17 finished with value: 0.875 and parameters: {'window': 'not_fixed', 'n_neighbors': 11, 'h': 0.637704561237164, 'metric': 'cosine_distance', 'kernel': 'triangular_kernel', 'p': 0.8929606977132545}. Best is trial 14 with value: 0.9166666666666666.\n",
      "[I 2024-03-27 19:36:12,415] Trial 18 finished with value: 0.8541666666666666 and parameters: {'window': 'not_fixed', 'n_neighbors': 5, 'h': 0.6207238932975384, 'metric': 'cosine_distance', 'kernel': 'uniform_kernel', 'p': 1.7398402839857283}. Best is trial 14 with value: 0.9166666666666666.\n",
      "[I 2024-03-27 19:36:12,914] Trial 19 finished with value: 0.8541666666666666 and parameters: {'window': 'not_fixed', 'n_neighbors': 30, 'h': 0.9112421024667501, 'metric': 'minkowski_distance', 'kernel': 'triangular_kernel', 'p': 1.3693819951022026}. Best is trial 14 with value: 0.9166666666666666.\n",
      "[I 2024-03-27 19:36:13,520] Trial 20 finished with value: 0.9375 and parameters: {'window': 'not_fixed', 'n_neighbors': 13, 'h': 0.27998420038028105, 'metric': 'minkowski_distance', 'kernel': 'epanechnikov_kernel', 'p': 0.547852398892165}. Best is trial 20 with value: 0.9375.\n",
      "[I 2024-03-27 19:36:14,113] Trial 21 finished with value: 0.9375 and parameters: {'window': 'not_fixed', 'n_neighbors': 13, 'h': 0.31044404301828094, 'metric': 'minkowski_distance', 'kernel': 'epanechnikov_kernel', 'p': 0.7340693459737841}. Best is trial 20 with value: 0.9375.\n",
      "[I 2024-03-27 19:36:14,647] Trial 22 finished with value: 0.875 and parameters: {'window': 'not_fixed', 'n_neighbors': 13, 'h': 0.27754350480576095, 'metric': 'minkowski_distance', 'kernel': 'epanechnikov_kernel', 'p': 2.1277916441205122}. Best is trial 20 with value: 0.9375.\n",
      "[I 2024-03-27 19:36:15,240] Trial 23 finished with value: 0.9166666666666666 and parameters: {'window': 'not_fixed', 'n_neighbors': 16, 'h': 0.1750862119188462, 'metric': 'minkowski_distance', 'kernel': 'epanechnikov_kernel', 'p': 0.13788346783817695}. Best is trial 20 with value: 0.9375.\n",
      "[I 2024-03-27 19:36:15,773] Trial 24 finished with value: 0.8958333333333334 and parameters: {'window': 'not_fixed', 'n_neighbors': 21, 'h': 0.3369843349309729, 'metric': 'minkowski_distance', 'kernel': 'epanechnikov_kernel', 'p': 0.687998772068972}. Best is trial 20 with value: 0.9375.\n",
      "[I 2024-03-27 19:36:16,322] Trial 25 finished with value: 0.875 and parameters: {'window': 'not_fixed', 'n_neighbors': 13, 'h': 0.13581626240357644, 'metric': 'minkowski_distance', 'kernel': 'epanechnikov_kernel', 'p': 1.2535005252984328}. Best is trial 20 with value: 0.9375.\n",
      "[I 2024-03-27 19:36:16,582] Trial 26 finished with value: 0.16666666666666666 and parameters: {'window': 'fixed', 'n_neighbors': 19, 'h': 0.5474108554354506, 'metric': 'minkowski_distance', 'kernel': 'triangular_kernel', 'p': 1.586453189667782}. Best is trial 20 with value: 0.9375.\n",
      "[I 2024-03-27 19:36:17,147] Trial 27 finished with value: 0.8333333333333334 and parameters: {'window': 'not_fixed', 'n_neighbors': 6, 'h': 0.2713272618491967, 'metric': 'minkowski_distance', 'kernel': 'uniform_kernel', 'p': 2.085810468855457}. Best is trial 20 with value: 0.9375.\n",
      "[I 2024-03-27 19:36:17,742] Trial 28 finished with value: 0.9375 and parameters: {'window': 'not_fixed', 'n_neighbors': 12, 'h': 0.38386415496187015, 'metric': 'minkowski_distance', 'kernel': 'epanechnikov_kernel', 'p': 0.5485009530461111}. Best is trial 20 with value: 0.9375.\n",
      "[I 2024-03-27 19:36:18,103] Trial 29 finished with value: 0.16666666666666666 and parameters: {'window': 'fixed', 'n_neighbors': 25, 'h': 0.3673779801475553, 'metric': 'minkowski_distance', 'kernel': 'epanechnikov_kernel', 'p': 0.4580551262734538}. Best is trial 20 with value: 0.9375.\n",
      "[I 2024-03-27 19:36:18,629] Trial 30 finished with value: 0.9375 and parameters: {'window': 'not_fixed', 'n_neighbors': 15, 'h': 0.07871600504543241, 'metric': 'minkowski_distance', 'kernel': 'epanechnikov_kernel', 'p': 0.7645397888794874}. Best is trial 20 with value: 0.9375.\n",
      "[I 2024-03-27 19:36:19,131] Trial 31 finished with value: 0.9166666666666666 and parameters: {'window': 'not_fixed', 'n_neighbors': 16, 'h': 0.017937844714111514, 'metric': 'minkowski_distance', 'kernel': 'epanechnikov_kernel', 'p': 0.7087140370150384}. Best is trial 20 with value: 0.9375.\n",
      "[I 2024-03-27 19:36:19,582] Trial 32 finished with value: 0.8958333333333334 and parameters: {'window': 'not_fixed', 'n_neighbors': 14, 'h': 0.1181376003404298, 'metric': 'minkowski_distance', 'kernel': 'epanechnikov_kernel', 'p': 0.9948671926207036}. Best is trial 20 with value: 0.9375.\n",
      "[I 2024-03-27 19:36:20,020] Trial 33 finished with value: 0.9166666666666666 and parameters: {'window': 'not_fixed', 'n_neighbors': 8, 'h': 0.3910829146146102, 'metric': 'minkowski_distance', 'kernel': 'epanechnikov_kernel', 'p': 0.12947481452067539}. Best is trial 20 with value: 0.9375.\n",
      "[I 2024-03-27 19:36:20,385] Trial 34 finished with value: 0.6875 and parameters: {'window': 'not_fixed', 'n_neighbors': 19, 'h': 0.3122272310256683, 'metric': 'minkowski_distance', 'kernel': 'gaussian_kernel', 'p': 1.2351705215023463}. Best is trial 20 with value: 0.9375.\n",
      "[I 2024-03-27 19:36:20,813] Trial 35 finished with value: 0.9375 and parameters: {'window': 'not_fixed', 'n_neighbors': 15, 'h': 0.4321345465318351, 'metric': 'minkowski_distance', 'kernel': 'epanechnikov_kernel', 'p': 0.7663186442708164}. Best is trial 20 with value: 0.9375.\n",
      "[I 2024-03-27 19:36:21,071] Trial 36 finished with value: 0.16666666666666666 and parameters: {'window': 'fixed', 'n_neighbors': 11, 'h': 0.212049506244235, 'metric': 'minkowski_distance', 'kernel': 'epanechnikov_kernel', 'p': 0.4235627752556358}. Best is trial 20 with value: 0.9375.\n",
      "[I 2024-03-27 19:36:21,498] Trial 37 finished with value: 0.8541666666666666 and parameters: {'window': 'not_fixed', 'n_neighbors': 9, 'h': 0.08538807892169059, 'metric': 'minkowski_distance', 'kernel': 'epanechnikov_kernel', 'p': 3.4156264356592207}. Best is trial 20 with value: 0.9375.\n",
      "[I 2024-03-27 19:36:21,858] Trial 38 finished with value: 0.875 and parameters: {'window': 'not_fixed', 'n_neighbors': 3, 'h': 0.5354320975295519, 'metric': 'minkowski_distance', 'kernel': 'gaussian_kernel', 'p': 1.056765513910461}. Best is trial 20 with value: 0.9375.\n",
      "[I 2024-03-27 19:36:22,120] Trial 39 finished with value: 0.16666666666666666 and parameters: {'window': 'fixed', 'n_neighbors': 13, 'h': 0.42899037418251174, 'metric': 'minkowski_distance', 'kernel': 'epanechnikov_kernel', 'p': 1.4186694432389895}. Best is trial 20 with value: 0.9375.\n",
      "[I 2024-03-27 19:36:22,586] Trial 40 finished with value: 0.9375 and parameters: {'window': 'not_fixed', 'n_neighbors': 18, 'h': 0.22811707445732624, 'metric': 'minkowski_distance', 'kernel': 'epanechnikov_kernel', 'p': 0.41035473142491175}. Best is trial 20 with value: 0.9375.\n",
      "[I 2024-03-27 19:36:23,055] Trial 41 finished with value: 0.9375 and parameters: {'window': 'not_fixed', 'n_neighbors': 15, 'h': 0.39165735801522555, 'metric': 'minkowski_distance', 'kernel': 'epanechnikov_kernel', 'p': 0.7446933151710744}. Best is trial 20 with value: 0.9375.\n",
      "[I 2024-03-27 19:36:23,487] Trial 42 finished with value: 0.9375 and parameters: {'window': 'not_fixed', 'n_neighbors': 15, 'h': 0.4292266282267784, 'metric': 'minkowski_distance', 'kernel': 'epanechnikov_kernel', 'p': 0.7501284873211462}. Best is trial 20 with value: 0.9375.\n",
      "[I 2024-03-27 19:36:23,916] Trial 43 finished with value: 0.8958333333333334 and parameters: {'window': 'not_fixed', 'n_neighbors': 14, 'h': 0.3018223572142674, 'metric': 'minkowski_distance', 'kernel': 'epanechnikov_kernel', 'p': 0.9682830849770956}. Best is trial 20 with value: 0.9375.\n",
      "[I 2024-03-27 19:36:24,346] Trial 44 finished with value: 0.9375 and parameters: {'window': 'not_fixed', 'n_neighbors': 12, 'h': 0.5443839609828702, 'metric': 'minkowski_distance', 'kernel': 'epanechnikov_kernel', 'p': 0.3886339854659897}. Best is trial 20 with value: 0.9375.\n",
      "[I 2024-03-27 19:36:24,725] Trial 45 finished with value: 0.6666666666666666 and parameters: {'window': 'not_fixed', 'n_neighbors': 17, 'h': 0.34368431497403706, 'metric': 'minkowski_distance', 'kernel': 'gaussian_kernel', 'p': 0.5849171154866075}. Best is trial 20 with value: 0.9375.\n",
      "[I 2024-03-27 19:36:25,151] Trial 46 finished with value: 0.8541666666666666 and parameters: {'window': 'not_fixed', 'n_neighbors': 9, 'h': 0.4605101616642002, 'metric': 'minkowski_distance', 'kernel': 'epanechnikov_kernel', 'p': 2.7375885937225197}. Best is trial 20 with value: 0.9375.\n",
      "[I 2024-03-27 19:36:25,406] Trial 47 finished with value: 0.16666666666666666 and parameters: {'window': 'fixed', 'n_neighbors': 21, 'h': 0.1730106571696332, 'metric': 'minkowski_distance', 'kernel': 'epanechnikov_kernel', 'p': 1.1203407366052356}. Best is trial 20 with value: 0.9375.\n",
      "[I 2024-03-27 19:36:25,824] Trial 48 finished with value: 0.9166666666666666 and parameters: {'window': 'not_fixed', 'n_neighbors': 10, 'h': 0.061822357351064255, 'metric': 'minkowski_distance', 'kernel': 'epanechnikov_kernel', 'p': 0.2977113996680745}. Best is trial 20 with value: 0.9375.\n",
      "[I 2024-03-27 19:36:26,241] Trial 49 finished with value: 0.875 and parameters: {'window': 'not_fixed', 'n_neighbors': 14, 'h': 0.24384857517194086, 'metric': 'minkowski_distance', 'kernel': 'uniform_kernel', 'p': 0.901788629120732}. Best is trial 20 with value: 0.9375.\n",
      "[I 2024-03-27 19:36:26,523] Trial 50 finished with value: 0.8541666666666666 and parameters: {'window': 'not_fixed', 'n_neighbors': 12, 'h': 0.5090636347299118, 'metric': 'cosine_distance', 'kernel': 'epanechnikov_kernel', 'p': 1.50348101671837}. Best is trial 20 with value: 0.9375.\n",
      "[I 2024-03-27 19:36:26,946] Trial 51 finished with value: 0.8958333333333334 and parameters: {'window': 'not_fixed', 'n_neighbors': 18, 'h': 0.19481726538963734, 'metric': 'minkowski_distance', 'kernel': 'epanechnikov_kernel', 'p': 0.570960593438838}. Best is trial 20 with value: 0.9375.\n",
      "[I 2024-03-27 19:36:27,361] Trial 52 finished with value: 0.9375 and parameters: {'window': 'not_fixed', 'n_neighbors': 17, 'h': 0.2560843598374495, 'metric': 'minkowski_distance', 'kernel': 'epanechnikov_kernel', 'p': 0.3700077460564217}. Best is trial 20 with value: 0.9375.\n",
      "[I 2024-03-27 19:36:27,811] Trial 53 finished with value: 0.8958333333333334 and parameters: {'window': 'not_fixed', 'n_neighbors': 15, 'h': 0.11363912135853785, 'metric': 'minkowski_distance', 'kernel': 'epanechnikov_kernel', 'p': 0.8478611314871237}. Best is trial 20 with value: 0.9375.\n",
      "[I 2024-03-27 19:36:28,221] Trial 54 finished with value: 0.9166666666666666 and parameters: {'window': 'not_fixed', 'n_neighbors': 18, 'h': 0.2996007832045395, 'metric': 'minkowski_distance', 'kernel': 'epanechnikov_kernel', 'p': 0.32646385863762317}. Best is trial 20 with value: 0.9375.\n",
      "[I 2024-03-27 19:36:28,644] Trial 55 finished with value: 0.8958333333333334 and parameters: {'window': 'not_fixed', 'n_neighbors': 25, 'h': 0.35157417612406816, 'metric': 'minkowski_distance', 'kernel': 'epanechnikov_kernel', 'p': 0.5687861582044935}. Best is trial 20 with value: 0.9375.\n",
      "[I 2024-03-27 19:36:28,880] Trial 56 finished with value: 0.7083333333333334 and parameters: {'window': 'not_fixed', 'n_neighbors': 16, 'h': 0.15566352079522774, 'metric': 'cosine_distance', 'kernel': 'gaussian_kernel', 'p': 0.11912256009564581}. Best is trial 20 with value: 0.9375.\n",
      "[I 2024-03-27 19:36:29,295] Trial 57 finished with value: 0.875 and parameters: {'window': 'not_fixed', 'n_neighbors': 20, 'h': 0.22318207055401149, 'metric': 'minkowski_distance', 'kernel': 'epanechnikov_kernel', 'p': 1.1295638212093533}. Best is trial 20 with value: 0.9375.\n",
      "[I 2024-03-27 19:36:29,704] Trial 58 finished with value: 0.8958333333333334 and parameters: {'window': 'not_fixed', 'n_neighbors': 13, 'h': 0.41387438461587506, 'metric': 'minkowski_distance', 'kernel': 'uniform_kernel', 'p': 1.3106640046055005}. Best is trial 20 with value: 0.9375.\n",
      "[I 2024-03-27 19:36:29,965] Trial 59 finished with value: 0.7916666666666666 and parameters: {'window': 'fixed', 'n_neighbors': 12, 'h': 0.5921343135974174, 'metric': 'minkowski_distance', 'kernel': 'epanechnikov_kernel', 'p': 3.38412269524251}. Best is trial 20 with value: 0.9375.\n",
      "[I 2024-03-27 19:36:30,263] Trial 60 finished with value: 0.875 and parameters: {'window': 'not_fixed', 'n_neighbors': 10, 'h': 0.011507279331771272, 'metric': 'cosine_distance', 'kernel': 'epanechnikov_kernel', 'p': 0.8313052527459945}. Best is trial 20 with value: 0.9375.\n",
      "[I 2024-03-27 19:36:30,729] Trial 61 finished with value: 0.9166666666666666 and parameters: {'window': 'not_fixed', 'n_neighbors': 15, 'h': 0.3891218457939216, 'metric': 'minkowski_distance', 'kernel': 'epanechnikov_kernel', 'p': 0.6597421783414266}. Best is trial 20 with value: 0.9375.\n",
      "[I 2024-03-27 19:36:31,169] Trial 62 finished with value: 0.9375 and parameters: {'window': 'not_fixed', 'n_neighbors': 15, 'h': 0.31345043023921354, 'metric': 'minkowski_distance', 'kernel': 'epanechnikov_kernel', 'p': 0.27203203492657746}. Best is trial 20 with value: 0.9375.\n",
      "[I 2024-03-27 19:36:31,577] Trial 63 finished with value: 0.8958333333333334 and parameters: {'window': 'not_fixed', 'n_neighbors': 18, 'h': 0.4757291700741014, 'metric': 'minkowski_distance', 'kernel': 'epanechnikov_kernel', 'p': 0.6948781406183943}. Best is trial 20 with value: 0.9375.\n",
      "[I 2024-03-27 19:36:31,984] Trial 64 finished with value: 0.9166666666666666 and parameters: {'window': 'not_fixed', 'n_neighbors': 16, 'h': 0.3954222628610241, 'metric': 'minkowski_distance', 'kernel': 'epanechnikov_kernel', 'p': 0.46693789694275}. Best is trial 20 with value: 0.9375.\n",
      "[I 2024-03-27 19:36:32,368] Trial 65 finished with value: 0.9166666666666666 and parameters: {'window': 'not_fixed', 'n_neighbors': 11, 'h': 0.2797729630530257, 'metric': 'minkowski_distance', 'kernel': 'triangular_kernel', 'p': 0.7937475487460862}. Best is trial 20 with value: 0.9375.\n",
      "[I 2024-03-27 19:36:32,796] Trial 66 finished with value: 0.875 and parameters: {'window': 'not_fixed', 'n_neighbors': 14, 'h': 0.37019805130076716, 'metric': 'minkowski_distance', 'kernel': 'epanechnikov_kernel', 'p': 1.139157621003973}. Best is trial 20 with value: 0.9375.\n",
      "[I 2024-03-27 19:36:33,227] Trial 67 finished with value: 0.875 and parameters: {'window': 'not_fixed', 'n_neighbors': 23, 'h': 0.44279720391707544, 'metric': 'minkowski_distance', 'kernel': 'epanechnikov_kernel', 'p': 0.9658458737219374}. Best is trial 20 with value: 0.9375.\n",
      "[I 2024-03-27 19:36:33,660] Trial 68 finished with value: 0.9166666666666666 and parameters: {'window': 'not_fixed', 'n_neighbors': 13, 'h': 0.3442581158597924, 'metric': 'minkowski_distance', 'kernel': 'epanechnikov_kernel', 'p': 0.23452590141013363}. Best is trial 20 with value: 0.9375.\n",
      "[I 2024-03-27 19:36:34,097] Trial 69 finished with value: 0.875 and parameters: {'window': 'not_fixed', 'n_neighbors': 16, 'h': 0.24905099925022492, 'metric': 'minkowski_distance', 'kernel': 'uniform_kernel', 'p': 1.9640904496088512}. Best is trial 20 with value: 0.9375.\n",
      "[I 2024-03-27 19:36:34,379] Trial 70 finished with value: 0.16666666666666666 and parameters: {'window': 'fixed', 'n_neighbors': 8, 'h': 0.2001770661821068, 'metric': 'minkowski_distance', 'kernel': 'epanechnikov_kernel', 'p': 4.306566169436534}. Best is trial 20 with value: 0.9375.\n",
      "[I 2024-03-27 19:36:34,810] Trial 71 finished with value: 0.9166666666666666 and parameters: {'window': 'not_fixed', 'n_neighbors': 14, 'h': 0.42037771677403885, 'metric': 'minkowski_distance', 'kernel': 'epanechnikov_kernel', 'p': 0.7719173888861672}. Best is trial 20 with value: 0.9375.\n",
      "[I 2024-03-27 19:36:35,218] Trial 72 finished with value: 0.9166666666666666 and parameters: {'window': 'not_fixed', 'n_neighbors': 15, 'h': 0.4742206736134469, 'metric': 'minkowski_distance', 'kernel': 'epanechnikov_kernel', 'p': 0.4858028479212943}. Best is trial 20 with value: 0.9375.\n",
      "[I 2024-03-27 19:36:35,635] Trial 73 finished with value: 0.8958333333333334 and parameters: {'window': 'not_fixed', 'n_neighbors': 17, 'h': 0.514087919565133, 'metric': 'minkowski_distance', 'kernel': 'epanechnikov_kernel', 'p': 0.6613291971878966}. Best is trial 20 with value: 0.9375.\n",
      "[I 2024-03-27 19:36:36,059] Trial 74 finished with value: 0.875 and parameters: {'window': 'not_fixed', 'n_neighbors': 12, 'h': 0.4042654381559212, 'metric': 'minkowski_distance', 'kernel': 'epanechnikov_kernel', 'p': 1.214759938727075}. Best is trial 20 with value: 0.9375.\n",
      "[I 2024-03-27 19:36:36,463] Trial 75 finished with value: 0.8541666666666666 and parameters: {'window': 'not_fixed', 'n_neighbors': 18, 'h': 0.3195715122918391, 'metric': 'minkowski_distance', 'kernel': 'epanechnikov_kernel', 'p': 2.4592129155294264}. Best is trial 20 with value: 0.9375.\n",
      "[I 2024-03-27 19:36:36,826] Trial 76 finished with value: 0.8333333333333334 and parameters: {'window': 'not_fixed', 'n_neighbors': 15, 'h': 0.5855185528533594, 'metric': 'minkowski_distance', 'kernel': 'gaussian_kernel', 'p': 1.0085322618379533}. Best is trial 20 with value: 0.9375.\n",
      "[I 2024-03-27 19:36:37,075] Trial 77 finished with value: 0.875 and parameters: {'window': 'not_fixed', 'n_neighbors': 20, 'h': 0.43502061538667114, 'metric': 'cosine_distance', 'kernel': 'triangular_kernel', 'p': 0.5363767945866497}. Best is trial 20 with value: 0.9375.\n",
      "[I 2024-03-27 19:36:37,494] Trial 78 finished with value: 0.9166666666666666 and parameters: {'window': 'not_fixed', 'n_neighbors': 13, 'h': 0.7022512860187322, 'metric': 'minkowski_distance', 'kernel': 'epanechnikov_kernel', 'p': 0.778755271639162}. Best is trial 20 with value: 0.9375.\n",
      "[I 2024-03-27 19:36:37,904] Trial 79 finished with value: 0.9375 and parameters: {'window': 'not_fixed', 'n_neighbors': 11, 'h': 0.3638040988461185, 'metric': 'minkowski_distance', 'kernel': 'epanechnikov_kernel', 'p': 0.3626310600575487}. Best is trial 20 with value: 0.9375.\n",
      "[I 2024-03-27 19:36:38,325] Trial 80 finished with value: 0.9166666666666666 and parameters: {'window': 'not_fixed', 'n_neighbors': 14, 'h': 0.3301218305812564, 'metric': 'minkowski_distance', 'kernel': 'epanechnikov_kernel', 'p': 0.8628453201412459}. Best is trial 20 with value: 0.9375.\n",
      "[I 2024-03-27 19:36:38,732] Trial 81 finished with value: 0.9166666666666666 and parameters: {'window': 'not_fixed', 'n_neighbors': 12, 'h': 0.2861830712048183, 'metric': 'minkowski_distance', 'kernel': 'epanechnikov_kernel', 'p': 0.20935417791509686}. Best is trial 20 with value: 0.9375.\n",
      "[I 2024-03-27 19:36:39,164] Trial 82 finished with value: 0.9375 and parameters: {'window': 'not_fixed', 'n_neighbors': 10, 'h': 0.5391806240464438, 'metric': 'minkowski_distance', 'kernel': 'epanechnikov_kernel', 'p': 0.4222795380826737}. Best is trial 20 with value: 0.9375.\n",
      "[I 2024-03-27 19:36:39,576] Trial 83 finished with value: 0.9375 and parameters: {'window': 'not_fixed', 'n_neighbors': 12, 'h': 0.5031031046100741, 'metric': 'minkowski_distance', 'kernel': 'epanechnikov_kernel', 'p': 0.6599248464501335}. Best is trial 20 with value: 0.9375.\n",
      "[I 2024-03-27 19:36:39,984] Trial 84 finished with value: 0.9375 and parameters: {'window': 'not_fixed', 'n_neighbors': 16, 'h': 0.45918990821425476, 'metric': 'minkowski_distance', 'kernel': 'epanechnikov_kernel', 'p': 0.5854514060341741}. Best is trial 20 with value: 0.9375.\n",
      "[I 2024-03-27 19:36:40,443] Trial 85 finished with value: 0.875 and parameters: {'window': 'not_fixed', 'n_neighbors': 13, 'h': 0.04641590291039042, 'metric': 'minkowski_distance', 'kernel': 'epanechnikov_kernel', 'p': 0.10670064148554459}. Best is trial 20 with value: 0.9375.\n",
      "[I 2024-03-27 19:36:40,733] Trial 86 finished with value: 0.16666666666666666 and parameters: {'window': 'fixed', 'n_neighbors': 17, 'h': 0.5771641898583526, 'metric': 'minkowski_distance', 'kernel': 'epanechnikov_kernel', 'p': 0.32548850722610895}. Best is trial 20 with value: 0.9375.\n",
      "[I 2024-03-27 19:36:41,175] Trial 87 finished with value: 0.8958333333333334 and parameters: {'window': 'not_fixed', 'n_neighbors': 15, 'h': 0.3798034668654703, 'metric': 'minkowski_distance', 'kernel': 'epanechnikov_kernel', 'p': 1.4295686909654521}. Best is trial 20 with value: 0.9375.\n",
      "[I 2024-03-27 19:36:41,584] Trial 88 finished with value: 0.8541666666666666 and parameters: {'window': 'not_fixed', 'n_neighbors': 11, 'h': 0.14240511367986333, 'metric': 'minkowski_distance', 'kernel': 'uniform_kernel', 'p': 0.9327666894030552}. Best is trial 20 with value: 0.9375.\n",
      "[I 2024-03-27 19:36:41,810] Trial 89 finished with value: 0.8125 and parameters: {'window': 'not_fixed', 'n_neighbors': 9, 'h': 0.5639225913067338, 'metric': 'cosine_distance', 'kernel': 'gaussian_kernel', 'p': 0.47163274932382554}. Best is trial 20 with value: 0.9375.\n",
      "[I 2024-03-27 19:36:42,241] Trial 90 finished with value: 0.8958333333333334 and parameters: {'window': 'not_fixed', 'n_neighbors': 14, 'h': 0.23774547558074438, 'metric': 'minkowski_distance', 'kernel': 'epanechnikov_kernel', 'p': 1.046500986097893}. Best is trial 20 with value: 0.9375.\n",
      "[I 2024-03-27 19:36:42,664] Trial 91 finished with value: 0.9166666666666666 and parameters: {'window': 'not_fixed', 'n_neighbors': 17, 'h': 0.25344654959376994, 'metric': 'minkowski_distance', 'kernel': 'epanechnikov_kernel', 'p': 0.2993396681463206}. Best is trial 20 with value: 0.9375.\n",
      "[I 2024-03-27 19:36:43,088] Trial 92 finished with value: 0.9166666666666666 and parameters: {'window': 'not_fixed', 'n_neighbors': 17, 'h': 0.2620292752942307, 'metric': 'minkowski_distance', 'kernel': 'epanechnikov_kernel', 'p': 0.7094677505854908}. Best is trial 20 with value: 0.9375.\n",
      "[I 2024-03-27 19:36:43,508] Trial 93 finished with value: 0.9166666666666666 and parameters: {'window': 'not_fixed', 'n_neighbors': 19, 'h': 0.1113208816134893, 'metric': 'minkowski_distance', 'kernel': 'epanechnikov_kernel', 'p': 0.3794288408837355}. Best is trial 20 with value: 0.9375.\n",
      "[I 2024-03-27 19:36:43,924] Trial 94 finished with value: 0.9166666666666666 and parameters: {'window': 'not_fixed', 'n_neighbors': 16, 'h': 0.2906970658390351, 'metric': 'minkowski_distance', 'kernel': 'epanechnikov_kernel', 'p': 0.5581319922903828}. Best is trial 20 with value: 0.9375.\n",
      "[I 2024-03-27 19:36:44,341] Trial 95 finished with value: 0.8958333333333334 and parameters: {'window': 'not_fixed', 'n_neighbors': 18, 'h': 0.18190206020804722, 'metric': 'minkowski_distance', 'kernel': 'epanechnikov_kernel', 'p': 0.753875952711068}. Best is trial 20 with value: 0.9375.\n",
      "[I 2024-03-27 19:36:44,712] Trial 96 finished with value: 0.9166666666666666 and parameters: {'window': 'not_fixed', 'n_neighbors': 13, 'h': 0.4852062455710192, 'metric': 'minkowski_distance', 'kernel': 'triangular_kernel', 'p': 0.1953190023536536}. Best is trial 20 with value: 0.9375.\n",
      "[I 2024-03-27 19:36:45,124] Trial 97 finished with value: 0.9375 and parameters: {'window': 'not_fixed', 'n_neighbors': 14, 'h': 0.22376724877619172, 'metric': 'minkowski_distance', 'kernel': 'epanechnikov_kernel', 'p': 0.6182135419935605}. Best is trial 20 with value: 0.9375.\n",
      "[I 2024-03-27 19:36:45,371] Trial 98 finished with value: 0.16666666666666666 and parameters: {'window': 'fixed', 'n_neighbors': 15, 'h': 0.3555088370215812, 'metric': 'minkowski_distance', 'kernel': 'epanechnikov_kernel', 'p': 0.41252254874370975}. Best is trial 20 with value: 0.9375.\n",
      "[I 2024-03-27 19:36:45,784] Trial 99 finished with value: 0.9166666666666666 and parameters: {'window': 'not_fixed', 'n_neighbors': 12, 'h': 0.4422638821641741, 'metric': 'minkowski_distance', 'kernel': 'epanechnikov_kernel', 'p': 0.9232641199436203}. Best is trial 20 with value: 0.9375.\n"
     ]
    },
    {
     "name": "stdout",
     "output_type": "stream",
     "text": [
      "Best params:  {'window': 'not_fixed', 'n_neighbors': 13, 'h': 0.27998420038028105, 'metric': 'minkowski_distance', 'kernel': 'epanechnikov_kernel', 'p': 0.547852398892165}\n",
      "Best accuracy:  0.9375\n"
     ]
    }
   ],
   "source": [
    "def objective(trial):\n",
    "    window = trial.suggest_categorical('window', ['fixed', 'not_fixed'])\n",
    "    n_neighbors = trial.suggest_int('n_neighbors', 1, 30)\n",
    "    h = trial.suggest_float('h', 0.0001, 1)\n",
    "    metric = trial.suggest_categorical('metric', ['minkowski_distance', 'cosine_distance'])\n",
    "    kernel = trial.suggest_categorical('kernel', ['uniform_kernel', 'triangular_kernel', 'epanechnikov_kernel', 'gaussian_kernel'])\n",
    "    p = trial.suggest_float('p', 0.1, 5.0)\n",
    "    y_pred = []\n",
    "    for u in X_valid:\n",
    "        y_pred.append(knn_classifier(u, X_train, y_train, window, n_neighbors, h, metric, kernel, None, p))\n",
    "    return accuracy_score(y_pred, y_valid)\n",
    "\n",
    "study = optuna.create_study(direction=\"maximize\")\n",
    "study.optimize(objective, n_trials=100)\n",
    "\n",
    "print('Best params: ', study.best_params)\n",
    "print('Best accuracy: ', study.best_value)"
   ]
  },
  {
   "cell_type": "code",
   "execution_count": 18,
   "metadata": {},
   "outputs": [
    {
     "name": "stderr",
     "output_type": "stream",
     "text": [
      "[I 2024-03-27 19:37:10,123] A new study created in memory with name: no-name-6e7cbb50-30cc-47ab-a0a0-610f03985779\n",
      "[I 2024-03-27 19:37:10,156] Trial 0 finished with value: 0.6666666666666666 and parameters: {'k': 94, 'weights': 'uniform', 'algorythm': 'ball_tree', 'p': 2.4511112597973725}. Best is trial 0 with value: 0.6666666666666666.\n",
      "[I 2024-03-27 19:37:10,200] Trial 1 finished with value: 0.6458333333333334 and parameters: {'k': 71, 'weights': 'uniform', 'algorythm': 'ball_tree', 'p': 3.2197395797209616}. Best is trial 0 with value: 0.6666666666666666.\n",
      "[I 2024-03-27 19:37:10,242] Trial 2 finished with value: 0.8958333333333334 and parameters: {'k': 59, 'weights': 'distance', 'algorythm': 'kd_tree', 'p': 2.813320084568096}. Best is trial 2 with value: 0.8958333333333334.\n",
      "[I 2024-03-27 19:37:10,282] Trial 3 finished with value: 0.8125 and parameters: {'k': 91, 'weights': 'distance', 'algorythm': 'ball_tree', 'p': 2.763791156016925}. Best is trial 2 with value: 0.8958333333333334.\n",
      "[I 2024-03-27 19:37:10,310] Trial 4 finished with value: 0.8541666666666666 and parameters: {'k': 8, 'weights': 'distance', 'algorythm': 'brute', 'p': 2.662716534947703}. Best is trial 2 with value: 0.8958333333333334.\n",
      "[I 2024-03-27 19:37:10,344] Trial 5 finished with value: 0.8125 and parameters: {'k': 57, 'weights': 'uniform', 'algorythm': 'brute', 'p': 4.28515370194682}. Best is trial 2 with value: 0.8958333333333334.\n",
      "[I 2024-03-27 19:37:10,377] Trial 6 finished with value: 0.8958333333333334 and parameters: {'k': 27, 'weights': 'uniform', 'algorythm': 'brute', 'p': 4.882843163735888}. Best is trial 2 with value: 0.8958333333333334.\n",
      "[I 2024-03-27 19:37:10,404] Trial 7 finished with value: 0.875 and parameters: {'k': 37, 'weights': 'uniform', 'algorythm': 'kd_tree', 'p': 2.9616979980098685}. Best is trial 2 with value: 0.8958333333333334.\n",
      "[I 2024-03-27 19:37:10,486] Trial 8 finished with value: 0.6458333333333334 and parameters: {'k': 91, 'weights': 'uniform', 'algorythm': 'kd_tree', 'p': 1.0912492945158898}. Best is trial 2 with value: 0.8958333333333334.\n",
      "[I 2024-03-27 19:37:10,519] Trial 9 finished with value: 0.8541666666666666 and parameters: {'k': 4, 'weights': 'uniform', 'algorythm': 'kd_tree', 'p': 2.1814467291492385}. Best is trial 2 with value: 0.8958333333333334.\n",
      "[I 2024-03-27 19:37:10,556] Trial 10 finished with value: 0.8541666666666666 and parameters: {'k': 66, 'weights': 'distance', 'algorythm': 'kd_tree', 'p': 1.4299254257655414}. Best is trial 2 with value: 0.8958333333333334.\n",
      "[I 2024-03-27 19:37:10,589] Trial 11 finished with value: 0.8958333333333334 and parameters: {'k': 33, 'weights': 'distance', 'algorythm': 'brute', 'p': 4.125434042401748}. Best is trial 2 with value: 0.8958333333333334.\n",
      "[I 2024-03-27 19:37:10,636] Trial 12 finished with value: 0.875 and parameters: {'k': 30, 'weights': 'distance', 'algorythm': 'brute', 'p': 4.897471733319032}. Best is trial 2 with value: 0.8958333333333334.\n",
      "[I 2024-03-27 19:37:10,693] Trial 13 finished with value: 0.8958333333333334 and parameters: {'k': 19, 'weights': 'distance', 'algorythm': 'kd_tree', 'p': 3.532663151331767}. Best is trial 2 with value: 0.8958333333333334.\n",
      "[I 2024-03-27 19:37:10,744] Trial 14 finished with value: 0.8125 and parameters: {'k': 47, 'weights': 'uniform', 'algorythm': 'brute', 'p': 1.9016990905545565}. Best is trial 2 with value: 0.8958333333333334.\n",
      "[I 2024-03-27 19:37:10,803] Trial 15 finished with value: 0.875 and parameters: {'k': 77, 'weights': 'distance', 'algorythm': 'kd_tree', 'p': 3.7079318754579282}. Best is trial 2 with value: 0.8958333333333334.\n",
      "[I 2024-03-27 19:37:10,858] Trial 16 finished with value: 0.8958333333333334 and parameters: {'k': 50, 'weights': 'distance', 'algorythm': 'brute', 'p': 4.896041591429522}. Best is trial 2 with value: 0.8958333333333334.\n",
      "[I 2024-03-27 19:37:10,928] Trial 17 finished with value: 0.8958333333333334 and parameters: {'k': 21, 'weights': 'uniform', 'algorythm': 'kd_tree', 'p': 4.293926993001472}. Best is trial 2 with value: 0.8958333333333334.\n",
      "[I 2024-03-27 19:37:10,976] Trial 18 finished with value: 0.8958333333333334 and parameters: {'k': 41, 'weights': 'uniform', 'algorythm': 'brute', 'p': 1.860072905469909}. Best is trial 2 with value: 0.8958333333333334.\n",
      "[I 2024-03-27 19:37:11,019] Trial 19 finished with value: 0.875 and parameters: {'k': 58, 'weights': 'distance', 'algorythm': 'ball_tree', 'p': 3.4758654359090535}. Best is trial 2 with value: 0.8958333333333334.\n",
      "[I 2024-03-27 19:37:11,063] Trial 20 finished with value: 0.8958333333333334 and parameters: {'k': 22, 'weights': 'distance', 'algorythm': 'brute', 'p': 3.7960978671095793}. Best is trial 2 with value: 0.8958333333333334.\n",
      "[I 2024-03-27 19:37:11,124] Trial 21 finished with value: 0.8958333333333334 and parameters: {'k': 33, 'weights': 'distance', 'algorythm': 'brute', 'p': 4.394514145633161}. Best is trial 2 with value: 0.8958333333333334.\n",
      "[I 2024-03-27 19:37:11,169] Trial 22 finished with value: 0.875 and parameters: {'k': 27, 'weights': 'distance', 'algorythm': 'brute', 'p': 4.5473530780398335}. Best is trial 2 with value: 0.8958333333333334.\n",
      "[I 2024-03-27 19:37:11,224] Trial 23 finished with value: 0.9166666666666666 and parameters: {'k': 12, 'weights': 'distance', 'algorythm': 'brute', 'p': 4.105290349571108}. Best is trial 23 with value: 0.9166666666666666.\n",
      "[I 2024-03-27 19:37:11,269] Trial 24 finished with value: 0.9166666666666666 and parameters: {'k': 12, 'weights': 'distance', 'algorythm': 'brute', 'p': 3.9668921684439002}. Best is trial 23 with value: 0.9166666666666666.\n",
      "[I 2024-03-27 19:37:11,325] Trial 25 finished with value: 0.9375 and parameters: {'k': 11, 'weights': 'distance', 'algorythm': 'kd_tree', 'p': 3.9103101936183644}. Best is trial 25 with value: 0.9375.\n",
      "[I 2024-03-27 19:37:11,357] Trial 26 finished with value: 0.9375 and parameters: {'k': 11, 'weights': 'distance', 'algorythm': 'brute', 'p': 3.975700943223124}. Best is trial 25 with value: 0.9375.\n",
      "[I 2024-03-27 19:37:11,402] Trial 27 finished with value: 0.7916666666666666 and parameters: {'k': 1, 'weights': 'distance', 'algorythm': 'brute', 'p': 3.2210615241753926}. Best is trial 25 with value: 0.9375.\n",
      "[I 2024-03-27 19:37:11,464] Trial 28 finished with value: 0.9166666666666666 and parameters: {'k': 13, 'weights': 'distance', 'algorythm': 'ball_tree', 'p': 4.572159948013872}. Best is trial 25 with value: 0.9375.\n",
      "[I 2024-03-27 19:37:11,509] Trial 29 finished with value: 0.875 and parameters: {'k': 14, 'weights': 'distance', 'algorythm': 'kd_tree', 'p': 4.030134645739292}. Best is trial 25 with value: 0.9375.\n",
      "[I 2024-03-27 19:37:11,557] Trial 30 finished with value: 0.8333333333333334 and parameters: {'k': 5, 'weights': 'distance', 'algorythm': 'ball_tree', 'p': 3.3249930418754152}. Best is trial 25 with value: 0.9375.\n",
      "[I 2024-03-27 19:37:11,586] Trial 31 finished with value: 0.9166666666666666 and parameters: {'k': 12, 'weights': 'distance', 'algorythm': 'brute', 'p': 3.9735089460034043}. Best is trial 25 with value: 0.9375.\n",
      "[I 2024-03-27 19:37:11,641] Trial 32 finished with value: 0.9166666666666666 and parameters: {'k': 17, 'weights': 'distance', 'algorythm': 'brute', 'p': 3.772049577344029}. Best is trial 25 with value: 0.9375.\n",
      "[I 2024-03-27 19:37:11,675] Trial 33 finished with value: 0.9166666666666666 and parameters: {'k': 10, 'weights': 'distance', 'algorythm': 'brute', 'p': 4.622184549993898}. Best is trial 25 with value: 0.9375.\n",
      "[I 2024-03-27 19:37:11,712] Trial 34 finished with value: 0.7708333333333334 and parameters: {'k': 1, 'weights': 'distance', 'algorythm': 'brute', 'p': 3.984204483800708}. Best is trial 25 with value: 0.9375.\n",
      "[I 2024-03-27 19:37:11,752] Trial 35 finished with value: 0.8958333333333334 and parameters: {'k': 23, 'weights': 'distance', 'algorythm': 'ball_tree', 'p': 3.5068856039682244}. Best is trial 25 with value: 0.9375.\n",
      "[I 2024-03-27 19:37:11,785] Trial 36 finished with value: 0.8958333333333334 and parameters: {'k': 9, 'weights': 'distance', 'algorythm': 'brute', 'p': 3.003266428019566}. Best is trial 25 with value: 0.9375.\n",
      "[I 2024-03-27 19:37:11,825] Trial 37 finished with value: 0.8958333333333334 and parameters: {'k': 16, 'weights': 'distance', 'algorythm': 'brute', 'p': 3.6683267753873583}. Best is trial 25 with value: 0.9375.\n",
      "[I 2024-03-27 19:37:11,859] Trial 38 finished with value: 0.875 and parameters: {'k': 41, 'weights': 'distance', 'algorythm': 'kd_tree', 'p': 4.11363095413064}. Best is trial 25 with value: 0.9375.\n",
      "[I 2024-03-27 19:37:11,906] Trial 39 finished with value: 0.8333333333333334 and parameters: {'k': 6, 'weights': 'distance', 'algorythm': 'brute', 'p': 4.34486541417654}. Best is trial 25 with value: 0.9375.\n",
      "[I 2024-03-27 19:37:11,936] Trial 40 finished with value: 0.8958333333333334 and parameters: {'k': 26, 'weights': 'distance', 'algorythm': 'kd_tree', 'p': 3.0862539229261317}. Best is trial 25 with value: 0.9375.\n",
      "[I 2024-03-27 19:37:11,994] Trial 41 finished with value: 0.9166666666666666 and parameters: {'k': 12, 'weights': 'distance', 'algorythm': 'ball_tree', 'p': 4.612273536217462}. Best is trial 25 with value: 0.9375.\n",
      "[I 2024-03-27 19:37:12,035] Trial 42 finished with value: 0.8958333333333334 and parameters: {'k': 17, 'weights': 'distance', 'algorythm': 'ball_tree', 'p': 4.508178928372487}. Best is trial 25 with value: 0.9375.\n",
      "[I 2024-03-27 19:37:12,068] Trial 43 finished with value: 0.8333333333333334 and parameters: {'k': 8, 'weights': 'distance', 'algorythm': 'ball_tree', 'p': 4.744018808112459}. Best is trial 25 with value: 0.9375.\n",
      "[I 2024-03-27 19:37:12,107] Trial 44 finished with value: 0.8958333333333334 and parameters: {'k': 14, 'weights': 'distance', 'algorythm': 'ball_tree', 'p': 4.17039438147468}. Best is trial 25 with value: 0.9375.\n",
      "[I 2024-03-27 19:37:12,141] Trial 45 finished with value: 0.8958333333333334 and parameters: {'k': 23, 'weights': 'distance', 'algorythm': 'ball_tree', 'p': 3.8721496698514013}. Best is trial 25 with value: 0.9375.\n",
      "[I 2024-03-27 19:37:12,173] Trial 46 finished with value: 0.7708333333333334 and parameters: {'k': 100, 'weights': 'distance', 'algorythm': 'ball_tree', 'p': 4.711182466487071}. Best is trial 25 with value: 0.9375.\n",
      "[I 2024-03-27 19:37:12,212] Trial 47 finished with value: 0.625 and parameters: {'k': 77, 'weights': 'uniform', 'algorythm': 'kd_tree', 'p': 4.214337393608435}. Best is trial 25 with value: 0.9375.\n",
      "[I 2024-03-27 19:37:12,240] Trial 48 finished with value: 0.8541666666666666 and parameters: {'k': 4, 'weights': 'distance', 'algorythm': 'brute', 'p': 2.480044869376948}. Best is trial 25 with value: 0.9375.\n",
      "[I 2024-03-27 19:37:12,278] Trial 49 finished with value: 0.8958333333333334 and parameters: {'k': 32, 'weights': 'distance', 'algorythm': 'brute', 'p': 3.6124213496049427}. Best is trial 25 with value: 0.9375.\n",
      "[I 2024-03-27 19:37:12,335] Trial 50 finished with value: 0.875 and parameters: {'k': 19, 'weights': 'uniform', 'algorythm': 'kd_tree', 'p': 4.454950875288825}. Best is trial 25 with value: 0.9375.\n",
      "[I 2024-03-27 19:37:12,373] Trial 51 finished with value: 0.9166666666666666 and parameters: {'k': 12, 'weights': 'distance', 'algorythm': 'brute', 'p': 3.9278773144579215}. Best is trial 25 with value: 0.9375.\n",
      "[I 2024-03-27 19:37:12,419] Trial 52 finished with value: 0.8958333333333334 and parameters: {'k': 10, 'weights': 'distance', 'algorythm': 'brute', 'p': 4.036627558189249}. Best is trial 25 with value: 0.9375.\n",
      "[I 2024-03-27 19:37:12,463] Trial 53 finished with value: 0.8541666666666666 and parameters: {'k': 6, 'weights': 'distance', 'algorythm': 'brute', 'p': 3.361588873244213}. Best is trial 25 with value: 0.9375.\n",
      "[I 2024-03-27 19:37:12,494] Trial 54 finished with value: 0.8958333333333334 and parameters: {'k': 25, 'weights': 'distance', 'algorythm': 'brute', 'p': 4.232355432740929}. Best is trial 25 with value: 0.9375.\n",
      "[I 2024-03-27 19:37:12,539] Trial 55 finished with value: 0.8958333333333334 and parameters: {'k': 19, 'weights': 'distance', 'algorythm': 'brute', 'p': 3.8706382072109173}. Best is trial 25 with value: 0.9375.\n",
      "[I 2024-03-27 19:37:12,574] Trial 56 finished with value: 0.7708333333333334 and parameters: {'k': 1, 'weights': 'distance', 'algorythm': 'brute', 'p': 4.81955247911338}. Best is trial 25 with value: 0.9375.\n",
      "[I 2024-03-27 19:37:12,645] Trial 57 finished with value: 0.7708333333333334 and parameters: {'k': 63, 'weights': 'uniform', 'algorythm': 'kd_tree', 'p': 4.28854117491907}. Best is trial 25 with value: 0.9375.\n",
      "[I 2024-03-27 19:37:12,669] Trial 58 finished with value: 0.875 and parameters: {'k': 29, 'weights': 'distance', 'algorythm': 'brute', 'p': 4.973615969675702}. Best is trial 25 with value: 0.9375.\n",
      "[I 2024-03-27 19:37:12,726] Trial 59 finished with value: 0.875 and parameters: {'k': 14, 'weights': 'distance', 'algorythm': 'brute', 'p': 4.417533976262004}. Best is trial 25 with value: 0.9375.\n",
      "[I 2024-03-27 19:37:12,752] Trial 60 finished with value: 0.8541666666666666 and parameters: {'k': 12, 'weights': 'distance', 'algorythm': 'ball_tree', 'p': 2.7788773245187324}. Best is trial 25 with value: 0.9375.\n",
      "[I 2024-03-27 19:37:12,802] Trial 61 finished with value: 0.9166666666666666 and parameters: {'k': 17, 'weights': 'distance', 'algorythm': 'brute', 'p': 3.7685878958902452}. Best is trial 25 with value: 0.9375.\n",
      "[I 2024-03-27 19:37:12,852] Trial 62 finished with value: 0.875 and parameters: {'k': 20, 'weights': 'distance', 'algorythm': 'brute', 'p': 3.745946306200608}. Best is trial 25 with value: 0.9375.\n",
      "[I 2024-03-27 19:37:12,885] Trial 63 finished with value: 0.8958333333333334 and parameters: {'k': 8, 'weights': 'distance', 'algorythm': 'brute', 'p': 4.022913799715693}. Best is trial 25 with value: 0.9375.\n",
      "[I 2024-03-27 19:37:12,926] Trial 64 finished with value: 0.8958333333333334 and parameters: {'k': 37, 'weights': 'distance', 'algorythm': 'brute', 'p': 3.6049977612799915}. Best is trial 25 with value: 0.9375.\n",
      "[I 2024-03-27 19:37:12,952] Trial 65 finished with value: 0.8333333333333334 and parameters: {'k': 4, 'weights': 'distance', 'algorythm': 'brute', 'p': 3.4019381257513577}. Best is trial 25 with value: 0.9375.\n",
      "[I 2024-03-27 19:37:12,989] Trial 66 finished with value: 0.875 and parameters: {'k': 14, 'weights': 'distance', 'algorythm': 'kd_tree', 'p': 3.8220008693664607}. Best is trial 25 with value: 0.9375.\n",
      "[I 2024-03-27 19:37:13,072] Trial 67 finished with value: 0.9166666666666666 and parameters: {'k': 17, 'weights': 'distance', 'algorythm': 'brute', 'p': 4.166401202936338}. Best is trial 25 with value: 0.9375.\n",
      "[I 2024-03-27 19:37:13,103] Trial 68 finished with value: 0.9166666666666666 and parameters: {'k': 11, 'weights': 'uniform', 'algorythm': 'brute', 'p': 4.078099743367489}. Best is trial 25 with value: 0.9375.\n",
      "[I 2024-03-27 19:37:13,139] Trial 69 finished with value: 0.8958333333333334 and parameters: {'k': 23, 'weights': 'distance', 'algorythm': 'kd_tree', 'p': 3.9266407885733075}. Best is trial 25 with value: 0.9375.\n",
      "[I 2024-03-27 19:37:13,171] Trial 70 finished with value: 0.875 and parameters: {'k': 5, 'weights': 'distance', 'algorythm': 'brute', 'p': 3.17759435781728}. Best is trial 25 with value: 0.9375.\n",
      "[I 2024-03-27 19:37:13,205] Trial 71 finished with value: 0.9166666666666666 and parameters: {'k': 9, 'weights': 'distance', 'algorythm': 'brute', 'p': 4.622292768597771}. Best is trial 25 with value: 0.9375.\n",
      "[I 2024-03-27 19:37:13,255] Trial 72 finished with value: 0.8958333333333334 and parameters: {'k': 15, 'weights': 'distance', 'algorythm': 'brute', 'p': 4.343710485932805}. Best is trial 25 with value: 0.9375.\n",
      "[I 2024-03-27 19:37:13,286] Trial 73 finished with value: 0.9166666666666666 and parameters: {'k': 11, 'weights': 'distance', 'algorythm': 'brute', 'p': 4.579743094670769}. Best is trial 25 with value: 0.9375.\n",
      "[I 2024-03-27 19:37:13,339] Trial 74 finished with value: 0.875 and parameters: {'k': 7, 'weights': 'distance', 'algorythm': 'ball_tree', 'p': 3.674026999960379}. Best is trial 25 with value: 0.9375.\n",
      "[I 2024-03-27 19:37:13,392] Trial 75 finished with value: 0.8958333333333334 and parameters: {'k': 3, 'weights': 'distance', 'algorythm': 'brute', 'p': 4.755985750719099}. Best is trial 25 with value: 0.9375.\n",
      "[I 2024-03-27 19:37:13,431] Trial 76 finished with value: 0.875 and parameters: {'k': 54, 'weights': 'distance', 'algorythm': 'brute', 'p': 1.2099933760622061}. Best is trial 25 with value: 0.9375.\n",
      "[I 2024-03-27 19:37:13,468] Trial 77 finished with value: 0.8958333333333334 and parameters: {'k': 18, 'weights': 'distance', 'algorythm': 'brute', 'p': 4.493295675673744}. Best is trial 25 with value: 0.9375.\n",
      "[I 2024-03-27 19:37:13,509] Trial 78 finished with value: 0.8958333333333334 and parameters: {'k': 22, 'weights': 'distance', 'algorythm': 'ball_tree', 'p': 4.14667495024754}. Best is trial 25 with value: 0.9375.\n",
      "[I 2024-03-27 19:37:13,556] Trial 79 finished with value: 0.875 and parameters: {'k': 14, 'weights': 'distance', 'algorythm': 'kd_tree', 'p': 3.9750999713884947}. Best is trial 25 with value: 0.9375.\n",
      "[I 2024-03-27 19:37:13,592] Trial 80 finished with value: 0.9166666666666666 and parameters: {'k': 9, 'weights': 'distance', 'algorythm': 'brute', 'p': 3.5606286579249335}. Best is trial 25 with value: 0.9375.\n",
      "[I 2024-03-27 19:37:13,638] Trial 81 finished with value: 0.9166666666666666 and parameters: {'k': 12, 'weights': 'distance', 'algorythm': 'ball_tree', 'p': 4.957742938259948}. Best is trial 25 with value: 0.9375.\n",
      "[I 2024-03-27 19:37:13,705] Trial 82 finished with value: 0.8541666666666666 and parameters: {'k': 7, 'weights': 'distance', 'algorythm': 'ball_tree', 'p': 4.654339202846164}. Best is trial 25 with value: 0.9375.\n",
      "[I 2024-03-27 19:37:13,741] Trial 83 finished with value: 0.7916666666666666 and parameters: {'k': 87, 'weights': 'distance', 'algorythm': 'ball_tree', 'p': 4.845391417671716}. Best is trial 25 with value: 0.9375.\n",
      "[I 2024-03-27 19:37:13,775] Trial 84 finished with value: 0.875 and parameters: {'k': 16, 'weights': 'distance', 'algorythm': 'ball_tree', 'p': 4.385308074659834}. Best is trial 25 with value: 0.9375.\n",
      "[I 2024-03-27 19:37:13,826] Trial 85 finished with value: 0.875 and parameters: {'k': 20, 'weights': 'uniform', 'algorythm': 'ball_tree', 'p': 4.526902068196747}. Best is trial 25 with value: 0.9375.\n",
      "[I 2024-03-27 19:37:13,861] Trial 86 finished with value: 0.8958333333333334 and parameters: {'k': 3, 'weights': 'distance', 'algorythm': 'brute', 'p': 4.663948354829398}. Best is trial 25 with value: 0.9375.\n",
      "[I 2024-03-27 19:37:13,919] Trial 87 finished with value: 0.9166666666666666 and parameters: {'k': 12, 'weights': 'distance', 'algorythm': 'ball_tree', 'p': 4.089368548286239}. Best is trial 25 with value: 0.9375.\n",
      "[I 2024-03-27 19:37:13,959] Trial 88 finished with value: 0.8958333333333334 and parameters: {'k': 26, 'weights': 'distance', 'algorythm': 'kd_tree', 'p': 4.237652490957334}. Best is trial 25 with value: 0.9375.\n",
      "[I 2024-03-27 19:37:14,007] Trial 89 finished with value: 0.875 and parameters: {'k': 46, 'weights': 'distance', 'algorythm': 'brute', 'p': 3.8805781689797536}. Best is trial 25 with value: 0.9375.\n",
      "[I 2024-03-27 19:37:14,042] Trial 90 finished with value: 0.8541666666666666 and parameters: {'k': 10, 'weights': 'distance', 'algorythm': 'brute', 'p': 1.9236643031338891}. Best is trial 25 with value: 0.9375.\n",
      "[I 2024-03-27 19:37:14,093] Trial 91 finished with value: 0.875 and parameters: {'k': 15, 'weights': 'distance', 'algorythm': 'brute', 'p': 3.966528948976856}. Best is trial 25 with value: 0.9375.\n",
      "[I 2024-03-27 19:37:14,145] Trial 92 finished with value: 0.875 and parameters: {'k': 12, 'weights': 'distance', 'algorythm': 'brute', 'p': 3.4684469924406756}. Best is trial 25 with value: 0.9375.\n",
      "[I 2024-03-27 19:37:14,193] Trial 93 finished with value: 0.8541666666666666 and parameters: {'k': 6, 'weights': 'distance', 'algorythm': 'brute', 'p': 3.8147912220103337}. Best is trial 25 with value: 0.9375.\n",
      "[I 2024-03-27 19:37:14,252] Trial 94 finished with value: 0.9166666666666666 and parameters: {'k': 13, 'weights': 'distance', 'algorythm': 'brute', 'p': 4.297747489001935}. Best is trial 25 with value: 0.9375.\n",
      "[I 2024-03-27 19:37:14,292] Trial 95 finished with value: 0.7708333333333334 and parameters: {'k': 1, 'weights': 'distance', 'algorythm': 'brute', 'p': 4.4485722824639495}. Best is trial 25 with value: 0.9375.\n",
      "[I 2024-03-27 19:37:14,340] Trial 96 finished with value: 0.9166666666666666 and parameters: {'k': 9, 'weights': 'distance', 'algorythm': 'brute', 'p': 3.7114547486364704}. Best is trial 25 with value: 0.9375.\n",
      "[I 2024-03-27 19:37:14,404] Trial 97 finished with value: 0.875 and parameters: {'k': 18, 'weights': 'uniform', 'algorythm': 'kd_tree', 'p': 4.046702025371214}. Best is trial 25 with value: 0.9375.\n",
      "[I 2024-03-27 19:37:14,446] Trial 98 finished with value: 0.8958333333333334 and parameters: {'k': 24, 'weights': 'distance', 'algorythm': 'ball_tree', 'p': 3.8859615832875973}. Best is trial 25 with value: 0.9375.\n",
      "[I 2024-03-27 19:37:14,485] Trial 99 finished with value: 0.875 and parameters: {'k': 21, 'weights': 'distance', 'algorythm': 'brute', 'p': 4.2273668202953125}. Best is trial 25 with value: 0.9375.\n"
     ]
    },
    {
     "name": "stdout",
     "output_type": "stream",
     "text": [
      "Best params:  {'k': 11, 'weights': 'distance', 'algorythm': 'kd_tree', 'p': 3.9103101936183644}\n",
      "Best accuracy:  0.9375\n"
     ]
    }
   ],
   "source": [
    "def objective(trial):\n",
    "    n_neighbors = trial.suggest_int(\"k\", 1, 100)\n",
    "    weights = trial.suggest_categorical(\"weights\", [\"uniform\", \"distance\"])\n",
    "    algorithm = trial.suggest_categorical(\"algorythm\", [\"ball_tree\", \"kd_tree\", \"brute\"])\n",
    "    p = trial.suggest_float(\"p\", 1, 5)\n",
    "    y_pred = KNeighborsClassifier(n_neighbors, weights=weights, algorithm=algorithm, p=p).fit(X_train, y_train).predict(X_valid)\n",
    "    return accuracy_score(y_valid, y_pred)\n",
    "\n",
    "\n",
    "study = optuna.create_study(direction=\"maximize\")\n",
    "study.optimize(objective, n_trials=100)\n",
    "\n",
    "print('Best params: ', study.best_params)\n",
    "print('Best accuracy: ', study.best_value)"
   ]
  },
  {
   "cell_type": "markdown",
   "metadata": {},
   "source": [
    "# Cравнение алгоритмов"
   ]
  },
  {
   "cell_type": "code",
   "execution_count": null,
   "metadata": {},
   "outputs": [],
   "source": [
    "def calculate_accuracy(x_test, y_test, x_train, y_train, k):\n",
    "    y_pred = []\n",
    "    for u in x_test:\n",
    "        y_pred.append(knn_classifier(u, x_train, y_train, window=\"not_fixed\", n_neighbors=k, metric='minkowski_distance', kernel='epanechnikov_kernel', p=0.25292267947538427))\n",
    "    return accuracy_score(y_test, y_pred)\n",
    "\n",
    "my_accuracies_test = []\n",
    "my_accuracies_valid = []\n",
    "lib_accuracies_test = []\n",
    "lib_accuracies_valid = []\n",
    "for k in range(1, 30, 3):\n",
    "    my_accuracy_test = calculate_accuracy(X_test, y_test, X_train, y_train, k)\n",
    "    my_accuracy_valid = calculate_accuracy(X_valid, y_valid, X_train, y_train, k)\n",
    "    lib_accuracy_test = accuracy_score(KNeighborsClassifier(k, weights='distance', algorithm='brute', p=1.938973210360973).fit(X_train, y_train).predict(X_test), y_test)\n",
    "    lib_accuracy_valid = accuracy_score(KNeighborsClassifier(k, weights='distance', algorithm='brute', p=1.938973210360973).fit(X_train, y_train).predict(X_valid), y_valid)\n",
    "    \n",
    "    my_accuracies_test.append(my_accuracy_test)\n",
    "    my_accuracies_valid.append(my_accuracies_valid)\n",
    "    lib_accuracies_test.append(lib_accuracy_test)\n",
    "    lib_accuracies_valid.append(lib_accuracies_valid)\n",
    "\n",
    "\n",
    "plt.plot(my_accuracies_test, label=\"My test\")\n",
    "plt.plot(my_accuracies_valid, label=\"My valid\")\n",
    "plt.plot(lib_accuracies_test, label=\"Lib test\")\n",
    "plt.plot(lib_accuracies_valid, label=\"Lib valid\")\n",
    "plt.xlabel('Neighbors (k)')\n",
    "plt.ylabel('Accuracy')\n",
    "plt.title('Accuracy vs. Neighbors')\n",
    "plt.grid(True)\n",
    "plt.show()"
   ]
  },
  {
   "cell_type": "markdown",
   "metadata": {},
   "source": [
    "# Lowess"
   ]
  },
  {
   "cell_type": "markdown",
   "metadata": {},
   "source": [
    "$$\n",
    "w_i = K(y(x_i) - a_{kNN}(x_i, D_{train} - \\{x_i\\}))\n",
    "$$"
   ]
  },
  {
   "cell_type": "code",
   "execution_count": null,
   "metadata": {},
   "outputs": [],
   "source": [
    "def dist(y1, y2):\n",
    "  if y1 == y2:\n",
    "    return 1\n",
    "  return 0\n",
    "\n",
    "def my_lowess(X, y, kernel=uniform_kernel):\n",
    "  w = []\n",
    "  for i in range(len(X)):\n",
    "    new_X = np.delete(X, i, axis=0)\n",
    "    new_y = np.delete(y, i, axis=0)\n",
    "    w.append(kernel(dist(y[i], knn_classifier(X[i], new_X, new_y))))\n",
    "    \n",
    "  return w \n",
    "\n",
    "def lib_lowess(X, y, kernel=uniform_kernel):\n",
    "  w = []\n",
    "  for i in range(len(X)):\n",
    "    new_X = np.delete(X, i, axis=0)\n",
    "    new_y = np.delete(y, i, axis=0)\n",
    "    knn = KNeighborsClassifier()\n",
    "    knn.fit(new_X, new_y)  \n",
    "    y_pred = knn.predict(np.array([X[i]]))[0]\n",
    "    w.append(kernel(dist(y[i], y_pred)))\n",
    "    \n",
    "  return w "
   ]
  },
  {
   "cell_type": "code",
   "execution_count": null,
   "metadata": {},
   "outputs": [],
   "source": [
    "def calculate_accuracy(x_test, y_test, x_train, y_train, weights=None):\n",
    "    y_pred = []\n",
    "    for u in x_test:\n",
    "        y_pred.append(knn_classifier(u, x_train, y_train, weights=weights))\n",
    "    return accuracy_score(y_test, y_pred)\n",
    "\n",
    "print(\"My classifier without lowess:\", calculate_accuracy(X_test, y_test, X_train, y_train))\n",
    "print(\"My classifier with lowess:\", calculate_accuracy(X_test, y_test, X_train, y_train, my_lowess(X_train, y_train)))"
   ]
  },
  {
   "cell_type": "markdown",
   "metadata": {},
   "source": [
    "Сэмплирование"
   ]
  },
  {
   "cell_type": "code",
   "execution_count": null,
   "metadata": {},
   "outputs": [],
   "source": [
    "prior_weights=lib_lowess(X_train, y_train)\n",
    "\n",
    "sampled_X_train = []\n",
    "sampled_y_train = []\n",
    "for i in range(len(X_train)):\n",
    "    if prior_weights[i] == 1:\n",
    "        sampled_X_train.append(X_train[i])\n",
    "        sampled_y_train.append(y_train[i])\n",
    "        \n",
    "sampled_X_train = np.array(sampled_X_train)\n",
    "sampled_y_train = np.array(sampled_y_train)\n",
    "print(sampled_X_train.shape, X_train.shape)"
   ]
  },
  {
   "cell_type": "code",
   "execution_count": null,
   "metadata": {},
   "outputs": [],
   "source": [
    "knn = KNeighborsClassifier(n_neighbors=3)\n",
    "knn.fit(sampled_X_train, sampled_y_train)\n",
    "\n",
    "print(\"Lib classifier without lowess:\", knn.score(X_test, y_test))\n",
    "\n",
    "knn = KNeighborsClassifier(n_neighbors=3)\n",
    "knn.fit(X_train, y_train)\n",
    "\n",
    "print(\"Lib classifier with lowess:\", knn.score(X_test, y_test))"
   ]
  }
 ],
 "metadata": {
  "kernelspec": {
   "display_name": "Python 3",
   "language": "python",
   "name": "python3"
  },
  "language_info": {
   "codemirror_mode": {
    "name": "ipython",
    "version": 3
   },
   "file_extension": ".py",
   "mimetype": "text/x-python",
   "name": "python",
   "nbconvert_exporter": "python",
   "pygments_lexer": "ipython3",
   "version": "3.12.2"
  }
 },
 "nbformat": 4,
 "nbformat_minor": 2
}
