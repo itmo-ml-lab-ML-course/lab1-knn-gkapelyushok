{
 "cells": [
  {
   "cell_type": "code",
   "execution_count": 17,
   "metadata": {},
   "outputs": [],
   "source": [
    "from sklearn.neighbors import KNeighborsClassifier\n",
    "import pandas as pd\n",
    "from sklearn.preprocessing import MinMaxScaler\n",
    "import numpy as np\n",
    "import matplotlib.pyplot as plt\n",
    "from sklearn.model_selection import train_test_split\n",
    "import optuna\n",
    "import seaborn as sns\n",
    "from sklearn.metrics import accuracy_score"
   ]
  },
  {
   "cell_type": "markdown",
   "metadata": {},
   "source": [
    "# Набор данных"
   ]
  },
  {
   "cell_type": "code",
   "execution_count": 18,
   "metadata": {},
   "outputs": [
    {
     "name": "stderr",
     "output_type": "stream",
     "text": [
      "C:\\Users\\kapgo\\AppData\\Local\\Temp\\ipykernel_8528\\102690690.py:5: FutureWarning: Downcasting behavior in `replace` is deprecated and will be removed in a future version. To retain the old behavior, explicitly call `result.infer_objects(copy=False)`. To opt-in to the future behavior, set `pd.set_option('future.no_silent_downcasting', True)`\n",
      "  df.replace(replacement_map, inplace=True)\n"
     ]
    },
    {
     "data": {
      "image/png": "[encoded data removed]",
      "text/plain": [
       "<Figure size 640x480 with 1 Axes>"
      ]
     },
     "metadata": {},
     "output_type": "display_data"
    }
   ],
   "source": [
    "df = pd.read_csv('male_players.csv')\n",
    "df.drop(columns=['n','Name', 'URL', 'GK', 'Gender', 'Club', 'Nation'], inplace=True)\n",
    "df = pd.get_dummies(df, columns=['Preferred foot'])\n",
    "replacement_map = {'Low': 0, 'Medium': 0.5, 'High': 1}\n",
    "df.replace(replacement_map, inplace=True)\n",
    "numerical_cols = df.select_dtypes(include=['int', 'float']).columns\n",
    "scaler = MinMaxScaler()\n",
    "df[numerical_cols] = scaler.fit_transform(df[numerical_cols])\n",
    "df.dropna(inplace=True)\n",
    "position_mapping = {\n",
    "    'CAM': 'Midfield',\n",
    "    'CB': 'Defend',\n",
    "    'CDM': 'Midfield',\n",
    "    'CF': 'Attack',\n",
    "    'CM': 'Midfield',\n",
    "    'GK': 'Goalkeeper',\n",
    "    'LB': 'Defend',\n",
    "    'LM': 'Midfield',\n",
    "    'LW': 'Attack',\n",
    "    'LWB': 'Defend',\n",
    "    'RB': 'Defend',\n",
    "    'RM': 'Midfield',\n",
    "    'RW': 'Attack',\n",
    "    'RWB': 'Defend',\n",
    "    'ST': 'Attack'\n",
    "}\n",
    "df['Position'] = df['Position'].replace(position_mapping)\n",
    "\n",
    "X = df.drop('Position', axis=1).to_numpy()\n",
    "target = df['Position'].to_numpy()\n",
    "\n",
    "sns.countplot(target)\n",
    "plt.show()"
   ]
  },
  {
   "cell_type": "code",
   "execution_count": 19,
   "metadata": {},
   "outputs": [],
   "source": [
    "X_train_temp, X_test, y_train_temp, y_test = train_test_split(X, target, test_size=0.2, random_state=42)\n",
    "\n",
    "X_train, X_valid, y_train, y_valid = train_test_split(X_train_temp, y_train_temp, test_size=0.2, random_state=42)\n"
   ]
  },
  {
   "cell_type": "code",
   "execution_count": 20,
   "metadata": {},
   "outputs": [
    {
     "data": {
      "text/plain": [
       "array(['Attack', 'Defend', 'Goalkeeper', 'Midfield'], dtype=object)"
      ]
     },
     "execution_count": 20,
     "metadata": {},
     "output_type": "execute_result"
    }
   ],
   "source": [
    "np.unique(target)"
   ]
  },
  {
   "cell_type": "markdown",
   "metadata": {},
   "source": [
    "# Расстояние Минковского"
   ]
  },
  {
   "cell_type": "markdown",
   "metadata": {},
   "source": [
    "$$D = \\left( \\sum_{i=1}^{n} |x_{i}^{(A)} - x_{i}^{(B)}|^p \\right)^{\\frac{1}{p}}$$\n"
   ]
  },
  {
   "cell_type": "code",
   "execution_count": 21,
   "metadata": {},
   "outputs": [],
   "source": [
    "def minkowski_distance(x1: np.array, x2: np.array, p=2):\n",
    "    return np.power(np.sum(np.abs(x1 - x2) ** p), 1/p)"
   ]
  },
  {
   "cell_type": "markdown",
   "metadata": {},
   "source": [
    "# Косинусное расстояние"
   ]
  },
  {
   "cell_type": "markdown",
   "metadata": {},
   "source": [
    "$$\n",
    "D = 1 - \\frac{A \\cdot B}{\\|A\\| \\|B\\|}\n",
    "$$\n"
   ]
  },
  {
   "cell_type": "code",
   "execution_count": 22,
   "metadata": {},
   "outputs": [],
   "source": [
    "def cosine_distance(x1, x2):\n",
    "    dot_product = np.dot(x1, x2)\n",
    "    norm_x1 = np.linalg.norm(x1)\n",
    "    norm_x2 = np.linalg.norm(x2)\n",
    "    cosine_similarity = dot_product / (norm_x1 * norm_x2)\n",
    "    cosine_distance = 1 - cosine_similarity\n",
    "    return cosine_distance"
   ]
  },
  {
   "cell_type": "markdown",
   "metadata": {},
   "source": [
    "# Расстояние Чебышева"
   ]
  },
  {
   "cell_type": "markdown",
   "metadata": {},
   "source": [
    "$$\n",
    "ρ(a, b) = max_i |a_i - b_i|\n",
    "\n",
    "$$"
   ]
  },
  {
   "cell_type": "code",
   "execution_count": 23,
   "metadata": {},
   "outputs": [],
   "source": [
    "def chebyshev_distance(x, y):\n",
    "    return np.max(np.abs(x - y))   "
   ]
  },
  {
   "cell_type": "code",
   "execution_count": 24,
   "metadata": {},
   "outputs": [
    {
     "data": {
      "text/plain": [
       "(10140, 40)"
      ]
     },
     "execution_count": 24,
     "metadata": {},
     "output_type": "execute_result"
    }
   ],
   "source": [
    "X_train.shape"
   ]
  },
  {
   "cell_type": "markdown",
   "metadata": {},
   "source": [
    "# Равномерное ядро"
   ]
  },
  {
   "cell_type": "markdown",
   "metadata": {},
   "source": [
    "$$\n",
    "Uniform(u) = \\frac{1}{2} \\cdot [u \\lt 1]\n",
    "$$"
   ]
  },
  {
   "cell_type": "code",
   "execution_count": 25,
   "metadata": {},
   "outputs": [],
   "source": [
    "def uniform_kernel(u):\n",
    "    return 0.5 * np.where(np.abs(u) < 1, 1, 0)"
   ]
  },
  {
   "cell_type": "markdown",
   "metadata": {},
   "source": [
    "# Треугольное ядро"
   ]
  },
  {
   "cell_type": "markdown",
   "metadata": {},
   "source": [
    "$$\n",
    "Triangular(u) = (1 - |u|) \\cdot [u \\lt 1]\n",
    "$$"
   ]
  },
  {
   "cell_type": "code",
   "execution_count": 26,
   "metadata": {},
   "outputs": [],
   "source": [
    "def triangular_kernel(u):\n",
    "    return np.maximum(1 - np.abs(u), 0)"
   ]
  },
  {
   "cell_type": "markdown",
   "metadata": {},
   "source": [
    "# Ядро Епанечникова"
   ]
  },
  {
   "cell_type": "markdown",
   "metadata": {},
   "source": [
    "$$\n",
    " Epanechnikov(u) = \\frac{3}{4} \\cdot (1 - u^2) \\cdot [u \\lt 1]\n",
    "$$"
   ]
  },
  {
   "cell_type": "code",
   "execution_count": 27,
   "metadata": {},
   "outputs": [],
   "source": [
    "def epanechnikov_kernel(u):\n",
    "    return 3/4*(1-u**2)*np.where(np.abs(u) < 1, 1, 0)"
   ]
  },
  {
   "cell_type": "markdown",
   "metadata": {},
   "source": [
    "# Гауссово ядро"
   ]
  },
  {
   "cell_type": "markdown",
   "metadata": {},
   "source": [
    "$$\n",
    "Gaussian(u) = \\frac{1}{\\sqrt{2\\pi}} \\cdot exp(\\frac{-u^2}{2})\n",
    "$$"
   ]
  },
  {
   "cell_type": "code",
   "execution_count": 28,
   "metadata": {},
   "outputs": [],
   "source": [
    "def gaussian_kernel(u):\n",
    "    return (1 / np.sqrt(2 * np.pi)) * np.exp(-0.5 * u ** 2)"
   ]
  },
  {
   "cell_type": "code",
   "execution_count": 29,
   "metadata": {},
   "outputs": [
    {
     "data": {
      "image/png": "[encoded data removed]",
      "text/plain": [
       "<Figure size 1000x600 with 1 Axes>"
      ]
     },
     "metadata": {},
     "output_type": "display_data"
    }
   ],
   "source": [
    "u_values = np.linspace(-2, 2, 1000)\n",
    "\n",
    "uniform_kernel_values = uniform_kernel(u_values)\n",
    "triangular_kernel_values = triangular_kernel(u_values)\n",
    "gaussian_kernel_values = gaussian_kernel(u_values)\n",
    "epanechnikov_kernel_values = epanechnikov_kernel(u_values)\n",
    "\n",
    "plt.figure(figsize=(10, 6))\n",
    "plt.plot(u_values, uniform_kernel_values, label='Uniform Kernel')\n",
    "plt.plot(u_values, triangular_kernel_values, label='Triangular Kernel')\n",
    "plt.plot(u_values, epanechnikov_kernel_values, label='Epanechnikov Kernel')\n",
    "plt.plot(u_values, gaussian_kernel_values, label='Gaussian Kernel')\n",
    "\n",
    "plt.xlabel('u')\n",
    "plt.ylabel('Kernel Value')\n",
    "plt.legend()\n",
    "plt.grid(True)\n",
    "plt.show()\n"
   ]
  },
  {
   "cell_type": "markdown",
   "metadata": {},
   "source": [
    "# Алгоритм"
   ]
  },
  {
   "cell_type": "markdown",
   "metadata": {},
   "source": [
    "$$\n",
    "a(u; D_{\\text{train}}) = \\arg \\max_{y \\in Y} \\sum_{i=1}^{|D_{\\text{train}}|} \\left[ y(x_{(u,i)}) = y \\right] w_{(i, u)}\n",
    "$$\n"
   ]
  },
  {
   "cell_type": "markdown",
   "metadata": {},
   "source": [
    "# Окно Парзена-Розенблатта с фиксированной шириной окна"
   ]
  },
  {
   "cell_type": "markdown",
   "metadata": {},
   "source": [
    "$$\n",
    "a(u; D_{\\text{train}}; h; K) = \\arg \\max_{y \\in Y} \\sum_{i=1}^{|D_{\\text{train}}|} \\left[ y(x_{(u,i)}) = y \\right] K\\left( \\frac{\\rho(u, x_{(u,i)})}{h} \\right)\n",
    "$$"
   ]
  },
  {
   "cell_type": "code",
   "execution_count": 30,
   "metadata": {},
   "outputs": [],
   "source": [
    "def fixed_window(u, x, y, h, metric, kernel, aprior_weights):\n",
    "    classes = np.unique(y)\n",
    "    classes_count = {c: 0 for c in classes}\n",
    "\n",
    "    if aprior_weights is None:\n",
    "        aprior_weights = np.ones(len(x))\n",
    "    for i in range(len(x)):\n",
    "        weight = kernel(metric(u, x[i]) / h) * aprior_weights[i]\n",
    "        classes_count[y[i]] += weight\n",
    "    return max(classes_count, key=classes_count.get)"
   ]
  },
  {
   "cell_type": "markdown",
   "metadata": {},
   "source": [
    "# Окно Парзена-Розенблатта с нефиксированной шириной окна"
   ]
  },
  {
   "cell_type": "markdown",
   "metadata": {},
   "source": [
    "$$\n",
    "a(u; D_{\\text{train}}; k; K) = \\arg \\max_{y \\in Y} \\sum_{i=1}^{|D_{\\text{train}}|} \\left[ y(x_{(u,i)}) = y \\right] K\\left( \\frac{\\rho(u, x_{(u,i)})}{\\rho(u, x_{(u, k+1)})} \\right)\n",
    "$$\n"
   ]
  },
  {
   "cell_type": "code",
   "execution_count": 31,
   "metadata": {},
   "outputs": [],
   "source": [
    "def not_fixed_window(u, x, y, n_neighbors, metric, kernel, aprior_weights):\n",
    "    classes = np.unique(y)\n",
    "    classes_count = {c: 0 for c in classes}\n",
    "    distances = []\n",
    "    for n in x:\n",
    "        distances.append(metric(u, n))\n",
    "    distances.sort()    \n",
    "    if aprior_weights is None:\n",
    "        aprior_weights = np.ones(len(x))\n",
    "    for i in range(len(x)):\n",
    "        weight = kernel(metric(u, x[i]) / distances[n_neighbors + 1]) * aprior_weights[i]\n",
    "        classes_count[y[i]] += weight\n",
    "    return max(classes_count, key=classes_count.get)"
   ]
  },
  {
   "cell_type": "code",
   "execution_count": 32,
   "metadata": {},
   "outputs": [],
   "source": [
    "def knn_classifier(u, \n",
    "                   x, \n",
    "                   y, \n",
    "                   window=\"fixed\",\n",
    "                   n_neighbors=5,\n",
    "                   h=0.1,\n",
    "                   metric=\"minkowski_distance\",\n",
    "                   kernel=\"gaussian_kernel\",\n",
    "                   aprior_weights=None,\n",
    "                   p=2.0):\n",
    "    metric_map = {'minkowski_distance'   : lambda x, y: minkowski_distance(x, y, p),\n",
    "                  'cosine_distance'      : cosine_distance,\n",
    "                  'chebyshev_distance'   : chebyshev_distance}\n",
    "    metric = metric_map[metric]\n",
    "    kernel_map = {'uniform_kernel'      : uniform_kernel,\n",
    "                  'triangular_kernel'   : triangular_kernel,\n",
    "                  'epanechnikov_kernel' : epanechnikov_kernel,\n",
    "                  'gaussian_kernel'     : gaussian_kernel}\n",
    "    kernel = kernel_map[kernel]\n",
    "    if window == \"fixed\":\n",
    "        return fixed_window(u, x, y, h, metric, kernel, aprior_weights)\n",
    "    else:\n",
    "        return not_fixed_window(u, x, y, n_neighbors, metric, kernel, aprior_weights)"
   ]
  },
  {
   "cell_type": "markdown",
   "metadata": {},
   "source": [
    "# Подбор гиперпараметров"
   ]
  },
  {
   "cell_type": "code",
   "execution_count": 33,
   "metadata": {},
   "outputs": [
    {
     "name": "stderr",
     "output_type": "stream",
     "text": [
      "[I 2024-03-27 12:52:14,126] A new study created in memory with name: no-name-e91bd609-1c1d-47d2-99c0-057b45da8e92\n"
     ]
    }
   ],
   "source": [
    "def objective(trial):\n",
    "    window = trial.suggest_categorical('window', ['fixed', 'not_fixed'])\n",
    "    n_neighbors = trial.suggest_int('n_neighbors', 1, 30)\n",
    "    h = trial.suggest_float('h', 0.0001, 1)\n",
    "    metric = trial.suggest_categorical('metric', ['minkowski_distance', 'cosine_distance'])\n",
    "    kernel = trial.suggest_categorical('kernel', ['uniform_kernel', 'triangular_kernel', 'epanechnikov_kernel', 'gaussian_kernel'])\n",
    "    p = trial.suggest_float('p', 0.1, 5.0)\n",
    "    y_pred = []\n",
    "    for u in X_valid:\n",
    "        y_pred.append(knn_classifier(u, X_train, y_train, window, n_neighbors, h, metric, kernel, None, p))\n",
    "    return accuracy_score(y_pred, y_valid)\n",
    "\n",
    "study = optuna.create_study(direction=\"maximize\")\n",
    "study.optimize(objective, n_trials=100)\n",
    "\n",
    "print('Best params: ', study.best_params)\n",
    "print('Best accuracy: ', study.best_value)"
   ]
  },
  {
   "cell_type": "code",
   "execution_count": null,
   "metadata": {},
   "outputs": [
    {
     "name": "stderr",
     "output_type": "stream",
     "text": [
      "[I 2024-03-21 00:34:42,585] A new study created in memory with name: no-name-fe130d31-7ab8-4331-ac86-063258021106\n",
      "[I 2024-03-21 00:34:42,757] Trial 0 finished with value: 0.7875 and parameters: {'k': 152, 'weights': 'distance', 'algorythm': 'brute', 'p': 1.0277609886734793}. Best is trial 0 with value: 0.7875.\n"
     ]
    },
    {
     "name": "stderr",
     "output_type": "stream",
     "text": [
      "[I 2024-03-21 00:34:42,885] Trial 1 finished with value: 0.8125 and parameters: {'k': 106, 'weights': 'distance', 'algorythm': 'ball_tree', 'p': 1.3141113210398778}. Best is trial 1 with value: 0.8125.\n",
      "[I 2024-03-21 00:34:42,968] Trial 2 finished with value: 0.7625 and parameters: {'k': 140, 'weights': 'distance', 'algorythm': 'kd_tree', 'p': 2.824227679006065}. Best is trial 1 with value: 0.8125.\n",
      "[I 2024-03-21 00:34:43,052] Trial 3 finished with value: 0.825 and parameters: {'k': 121, 'weights': 'distance', 'algorythm': 'brute', 'p': 2.3312754919076513}. Best is trial 3 with value: 0.825.\n",
      "[I 2024-03-21 00:34:43,139] Trial 4 finished with value: 0.55 and parameters: {'k': 174, 'weights': 'distance', 'algorythm': 'brute', 'p': 4.921334757316297}. Best is trial 3 with value: 0.825.\n",
      "[I 2024-03-21 00:34:43,266] Trial 5 finished with value: 0.775 and parameters: {'k': 119, 'weights': 'distance', 'algorythm': 'ball_tree', 'p': 3.7601628843777255}. Best is trial 3 with value: 0.825.\n",
      "[I 2024-03-21 00:34:43,352] Trial 6 finished with value: 0.8125 and parameters: {'k': 16, 'weights': 'uniform', 'algorythm': 'brute', 'p': 4.579130080264123}. Best is trial 3 with value: 0.825.\n",
      "[I 2024-03-21 00:34:43,448] Trial 7 finished with value: 0.8625 and parameters: {'k': 24, 'weights': 'uniform', 'algorythm': 'brute', 'p': 1.3643740970288096}. Best is trial 7 with value: 0.8625.\n",
      "[I 2024-03-21 00:34:43,503] Trial 8 finished with value: 0.8875 and parameters: {'k': 15, 'weights': 'distance', 'algorythm': 'brute', 'p': 1.938973210360973}. Best is trial 8 with value: 0.8875.\n",
      "[I 2024-03-21 00:34:43,588] Trial 9 finished with value: 0.725 and parameters: {'k': 99, 'weights': 'uniform', 'algorythm': 'brute', 'p': 4.813028596118572}. Best is trial 8 with value: 0.8875.\n",
      "[I 2024-03-21 00:34:43,700] Trial 10 finished with value: 0.75 and parameters: {'k': 57, 'weights': 'uniform', 'algorythm': 'kd_tree', 'p': 2.161534803365002}. Best is trial 8 with value: 0.8875.\n",
      "[I 2024-03-21 00:34:43,866] Trial 11 finished with value: 0.875 and parameters: {'k': 19, 'weights': 'uniform', 'algorythm': 'brute', 'p': 1.7378494306553307}. Best is trial 8 with value: 0.8875.\n",
      "[I 2024-03-21 00:34:44,031] Trial 12 finished with value: 0.75 and parameters: {'k': 54, 'weights': 'uniform', 'algorythm': 'brute', 'p': 2.0032835555888706}. Best is trial 8 with value: 0.8875.\n",
      "[I 2024-03-21 00:34:44,165] Trial 13 finished with value: 0.8 and parameters: {'k': 2, 'weights': 'uniform', 'algorythm': 'brute', 'p': 3.0953230596140924}. Best is trial 8 with value: 0.8875.\n",
      "[I 2024-03-21 00:34:44,348] Trial 14 finished with value: 0.7875 and parameters: {'k': 54, 'weights': 'distance', 'algorythm': 'ball_tree', 'p': 1.748286922356239}. Best is trial 8 with value: 0.8875.\n",
      "[I 2024-03-21 00:34:44,494] Trial 15 finished with value: 0.7625 and parameters: {'k': 79, 'weights': 'uniform', 'algorythm': 'kd_tree', 'p': 3.014382353190243}. Best is trial 8 with value: 0.8875.\n",
      "[I 2024-03-21 00:34:44,586] Trial 16 finished with value: 0.85 and parameters: {'k': 27, 'weights': 'uniform', 'algorythm': 'brute', 'p': 2.5713685001888233}. Best is trial 8 with value: 0.8875.\n",
      "[I 2024-03-21 00:34:44,679] Trial 17 finished with value: 0.8375 and parameters: {'k': 37, 'weights': 'distance', 'algorythm': 'brute', 'p': 1.5187616233114405}. Best is trial 8 with value: 0.8875.\n",
      "[I 2024-03-21 00:34:44,779] Trial 18 finished with value: 0.6 and parameters: {'k': 198, 'weights': 'distance', 'algorythm': 'kd_tree', 'p': 3.5468013358941866}. Best is trial 8 with value: 0.8875.\n",
      "[I 2024-03-21 00:34:44,896] Trial 19 finished with value: 0.8125 and parameters: {'k': 3, 'weights': 'uniform', 'algorythm': 'ball_tree', 'p': 2.013227605063742}. Best is trial 8 with value: 0.8875.\n",
      "[I 2024-03-21 00:34:44,999] Trial 20 finished with value: 0.825 and parameters: {'k': 79, 'weights': 'uniform', 'algorythm': 'brute', 'p': 1.0389650713310234}. Best is trial 8 with value: 0.8875.\n",
      "[I 2024-03-21 00:34:45,081] Trial 21 finished with value: 0.85 and parameters: {'k': 36, 'weights': 'uniform', 'algorythm': 'brute', 'p': 1.4320470494001516}. Best is trial 8 with value: 0.8875.\n",
      "[I 2024-03-21 00:34:45,166] Trial 22 finished with value: 0.875 and parameters: {'k': 19, 'weights': 'uniform', 'algorythm': 'brute', 'p': 1.7770435867598349}. Best is trial 8 with value: 0.8875.\n",
      "[I 2024-03-21 00:34:45,251] Trial 23 finished with value: 0.825 and parameters: {'k': 71, 'weights': 'uniform', 'algorythm': 'brute', 'p': 1.7299965778493245}. Best is trial 8 with value: 0.8875.\n",
      "[I 2024-03-21 00:34:45,346] Trial 24 finished with value: 0.75 and parameters: {'k': 41, 'weights': 'uniform', 'algorythm': 'brute', 'p': 2.451144342005858}. Best is trial 8 with value: 0.8875.\n",
      "[I 2024-03-21 00:34:45,443] Trial 25 finished with value: 0.8625 and parameters: {'k': 13, 'weights': 'uniform', 'algorythm': 'brute', 'p': 1.7694331199635933}. Best is trial 8 with value: 0.8875.\n",
      "[I 2024-03-21 00:34:45,555] Trial 26 finished with value: 0.8375 and parameters: {'k': 19, 'weights': 'distance', 'algorythm': 'brute', 'p': 2.757876069112706}. Best is trial 8 with value: 0.8875.\n",
      "[I 2024-03-21 00:34:45,687] Trial 27 finished with value: 0.8 and parameters: {'k': 2, 'weights': 'uniform', 'algorythm': 'brute', 'p': 3.402371472602974}. Best is trial 8 with value: 0.8875.\n",
      "[I 2024-03-21 00:34:45,810] Trial 28 finished with value: 0.7625 and parameters: {'k': 63, 'weights': 'distance', 'algorythm': 'kd_tree', 'p': 2.173014203260153}. Best is trial 8 with value: 0.8875.\n",
      "[I 2024-03-21 00:34:45,946] Trial 29 finished with value: 0.8875 and parameters: {'k': 46, 'weights': 'distance', 'algorythm': 'ball_tree', 'p': 1.0777981908908332}. Best is trial 8 with value: 0.8875.\n",
      "[I 2024-03-21 00:34:46,096] Trial 30 finished with value: 0.875 and parameters: {'k': 44, 'weights': 'distance', 'algorythm': 'ball_tree', 'p': 1.0221820878954249}. Best is trial 8 with value: 0.8875.\n",
      "[I 2024-03-21 00:34:46,232] Trial 31 finished with value: 0.8625 and parameters: {'k': 32, 'weights': 'distance', 'algorythm': 'ball_tree', 'p': 1.222497064884648}. Best is trial 8 with value: 0.8875.\n",
      "[I 2024-03-21 00:34:46,371] Trial 32 finished with value: 0.85 and parameters: {'k': 15, 'weights': 'distance', 'algorythm': 'ball_tree', 'p': 1.6519238240127567}. Best is trial 8 with value: 0.8875.\n",
      "[I 2024-03-21 00:34:46,505] Trial 33 finished with value: 0.8375 and parameters: {'k': 46, 'weights': 'distance', 'algorythm': 'ball_tree', 'p': 1.9067766668436783}. Best is trial 8 with value: 0.8875.\n",
      "[I 2024-03-21 00:34:46,599] Trial 34 finished with value: 0.8625 and parameters: {'k': 29, 'weights': 'distance', 'algorythm': 'ball_tree', 'p': 1.2138645087378257}. Best is trial 8 with value: 0.8875.\n",
      "[I 2024-03-21 00:34:46,687] Trial 35 finished with value: 0.8625 and parameters: {'k': 10, 'weights': 'distance', 'algorythm': 'brute', 'p': 1.4118387629906124}. Best is trial 8 with value: 0.8875.\n",
      "[I 2024-03-21 00:34:46,825] Trial 36 finished with value: 0.8 and parameters: {'k': 155, 'weights': 'distance', 'algorythm': 'ball_tree', 'p': 2.255075661351869}. Best is trial 8 with value: 0.8875.\n",
      "[I 2024-03-21 00:34:46,904] Trial 37 finished with value: 0.8125 and parameters: {'k': 94, 'weights': 'distance', 'algorythm': 'brute', 'p': 1.5802568580577945}. Best is trial 8 with value: 0.8875.\n",
      "[I 2024-03-21 00:34:46,995] Trial 38 finished with value: 0.875 and parameters: {'k': 24, 'weights': 'uniform', 'algorythm': 'brute', 'p': 2.639024897165356}. Best is trial 8 with value: 0.8875.\n",
      "[I 2024-03-21 00:34:47,110] Trial 39 finished with value: 0.8375 and parameters: {'k': 87, 'weights': 'distance', 'algorythm': 'kd_tree', 'p': 1.1880234766783606}. Best is trial 8 with value: 0.8875.\n",
      "[I 2024-03-21 00:34:47,228] Trial 40 finished with value: 0.4375 and parameters: {'k': 139, 'weights': 'uniform', 'algorythm': 'brute', 'p': 4.1638260574169905}. Best is trial 8 with value: 0.8875.\n",
      "[I 2024-03-21 00:34:47,367] Trial 41 finished with value: 0.8875 and parameters: {'k': 46, 'weights': 'distance', 'algorythm': 'ball_tree', 'p': 1.041691105433252}. Best is trial 8 with value: 0.8875.\n",
      "[I 2024-03-21 00:34:47,495] Trial 42 finished with value: 0.8 and parameters: {'k': 109, 'weights': 'distance', 'algorythm': 'ball_tree', 'p': 1.8802252214731898}. Best is trial 8 with value: 0.8875.\n",
      "[I 2024-03-21 00:34:47,629] Trial 43 finished with value: 0.825 and parameters: {'k': 49, 'weights': 'distance', 'algorythm': 'ball_tree', 'p': 1.396284951168791}. Best is trial 8 with value: 0.8875.\n",
      "[I 2024-03-21 00:34:47,763] Trial 44 finished with value: 0.825 and parameters: {'k': 65, 'weights': 'distance', 'algorythm': 'ball_tree', 'p': 1.0417196724368636}. Best is trial 8 with value: 0.8875.\n",
      "[I 2024-03-21 00:34:47,896] Trial 45 finished with value: 0.8375 and parameters: {'k': 26, 'weights': 'distance', 'algorythm': 'ball_tree', 'p': 2.0397212580226323}. Best is trial 8 with value: 0.8875.\n",
      "[I 2024-03-21 00:34:48,010] Trial 46 finished with value: 0.875 and parameters: {'k': 17, 'weights': 'uniform', 'algorythm': 'ball_tree', 'p': 2.3519487590255115}. Best is trial 8 with value: 0.8875.\n",
      "[I 2024-03-21 00:34:48,096] Trial 47 finished with value: 0.8375 and parameters: {'k': 7, 'weights': 'distance', 'algorythm': 'brute', 'p': 1.5543384516219787}. Best is trial 8 with value: 0.8875.\n",
      "[I 2024-03-21 00:34:48,169] Trial 48 finished with value: 0.875 and parameters: {'k': 37, 'weights': 'uniform', 'algorythm': 'brute', 'p': 1.2432386553888688}. Best is trial 8 with value: 0.8875.\n",
      "[I 2024-03-21 00:34:48,378] Trial 49 finished with value: 0.7875 and parameters: {'k': 59, 'weights': 'distance', 'algorythm': 'kd_tree', 'p': 1.8443249044190049}. Best is trial 8 with value: 0.8875.\n",
      "[I 2024-03-21 00:34:48,484] Trial 50 finished with value: 0.875 and parameters: {'k': 20, 'weights': 'uniform', 'algorythm': 'ball_tree', 'p': 1.6500076223217783}. Best is trial 8 with value: 0.8875.\n",
      "[I 2024-03-21 00:34:48,610] Trial 51 finished with value: 0.8875 and parameters: {'k': 47, 'weights': 'distance', 'algorythm': 'ball_tree', 'p': 1.0311150466832122}. Best is trial 8 with value: 0.8875.\n",
      "[I 2024-03-21 00:34:48,743] Trial 52 finished with value: 0.8375 and parameters: {'k': 51, 'weights': 'distance', 'algorythm': 'ball_tree', 'p': 1.3363575971797004}. Best is trial 8 with value: 0.8875.\n",
      "[I 2024-03-21 00:34:48,861] Trial 53 finished with value: 0.8375 and parameters: {'k': 73, 'weights': 'distance', 'algorythm': 'ball_tree', 'p': 1.1205146120557656}. Best is trial 8 with value: 0.8875.\n",
      "[I 2024-03-21 00:34:48,945] Trial 54 finished with value: 0.85 and parameters: {'k': 33, 'weights': 'distance', 'algorythm': 'ball_tree', 'p': 1.3336654245816386}. Best is trial 8 with value: 0.8875.\n",
      "[I 2024-03-21 00:34:49,016] Trial 55 finished with value: 0.85 and parameters: {'k': 43, 'weights': 'distance', 'algorythm': 'brute', 'p': 1.456357639693535}. Best is trial 8 with value: 0.8875.\n",
      "[I 2024-03-21 00:34:49,128] Trial 56 finished with value: 0.875 and parameters: {'k': 26, 'weights': 'uniform', 'algorythm': 'ball_tree', 'p': 1.0469832385640387}. Best is trial 8 with value: 0.8875.\n",
      "[I 2024-03-21 00:34:49,210] Trial 57 finished with value: 0.825 and parameters: {'k': 12, 'weights': 'distance', 'algorythm': 'brute', 'p': 1.54234837562398}. Best is trial 8 with value: 0.8875.\n",
      "[I 2024-03-21 00:34:49,294] Trial 58 finished with value: 0.775 and parameters: {'k': 55, 'weights': 'uniform', 'algorythm': 'brute', 'p': 2.9289004369077465}. Best is trial 8 with value: 0.8875.\n",
      "[I 2024-03-21 00:34:49,378] Trial 59 finished with value: 0.7625 and parameters: {'k': 39, 'weights': 'distance', 'algorythm': 'kd_tree', 'p': 3.233086818925388}. Best is trial 8 with value: 0.8875.\n",
      "[I 2024-03-21 00:34:49,504] Trial 60 finished with value: 0.7625 and parameters: {'k': 1, 'weights': 'uniform', 'algorythm': 'ball_tree', 'p': 2.085714032236651}. Best is trial 8 with value: 0.8875.\n",
      "[I 2024-03-21 00:34:49,643] Trial 61 finished with value: 0.875 and parameters: {'k': 43, 'weights': 'distance', 'algorythm': 'ball_tree', 'p': 1.055922143066602}. Best is trial 8 with value: 0.8875.\n",
      "[I 2024-03-21 00:34:49,760] Trial 62 finished with value: 0.8375 and parameters: {'k': 71, 'weights': 'distance', 'algorythm': 'ball_tree', 'p': 1.0013965563665925}. Best is trial 8 with value: 0.8875.\n",
      "[I 2024-03-21 00:34:49,845] Trial 63 finished with value: 0.8625 and parameters: {'k': 32, 'weights': 'distance', 'algorythm': 'ball_tree', 'p': 1.2477901142958292}. Best is trial 8 with value: 0.8875.\n",
      "[I 2024-03-21 00:34:49,960] Trial 64 finished with value: 0.825 and parameters: {'k': 47, 'weights': 'distance', 'algorythm': 'ball_tree', 'p': 1.6871635025059124}. Best is trial 8 with value: 0.8875.\n",
      "[I 2024-03-21 00:34:50,069] Trial 65 finished with value: 0.85 and parameters: {'k': 62, 'weights': 'distance', 'algorythm': 'brute', 'p': 1.152764669885183}. Best is trial 8 with value: 0.8875.\n",
      "[I 2024-03-21 00:34:50,176] Trial 66 finished with value: 0.8625 and parameters: {'k': 20, 'weights': 'distance', 'algorythm': 'ball_tree', 'p': 1.3494177936302434}. Best is trial 8 with value: 0.8875.\n",
      "[I 2024-03-21 00:34:50,263] Trial 67 finished with value: 0.875 and parameters: {'k': 8, 'weights': 'uniform', 'algorythm': 'brute', 'p': 1.8140555084948013}. Best is trial 8 with value: 0.8875.\n",
      "[I 2024-03-21 00:34:50,361] Trial 68 finished with value: 0.8 and parameters: {'k': 81, 'weights': 'distance', 'algorythm': 'ball_tree', 'p': 1.49349803250276}. Best is trial 8 with value: 0.8875.\n",
      "[I 2024-03-21 00:34:50,465] Trial 69 finished with value: 0.7625 and parameters: {'k': 53, 'weights': 'distance', 'algorythm': 'brute', 'p': 4.113172086997598}. Best is trial 8 with value: 0.8875.\n",
      "[I 2024-03-21 00:34:50,610] Trial 70 finished with value: 0.8625 and parameters: {'k': 22, 'weights': 'uniform', 'algorythm': 'ball_tree', 'p': 2.4280779987038548}. Best is trial 8 with value: 0.8875.\n",
      "[I 2024-03-21 00:34:50,709] Trial 71 finished with value: 0.8625 and parameters: {'k': 28, 'weights': 'uniform', 'algorythm': 'brute', 'p': 2.52553834604663}. Best is trial 8 with value: 0.8875.\n",
      "[I 2024-03-21 00:34:50,781] Trial 72 finished with value: 0.85 and parameters: {'k': 15, 'weights': 'uniform', 'algorythm': 'brute', 'p': 2.723360681173901}. Best is trial 8 with value: 0.8875.\n",
      "[I 2024-03-21 00:34:50,861] Trial 73 finished with value: 0.85 and parameters: {'k': 33, 'weights': 'uniform', 'algorythm': 'brute', 'p': 1.94211006215149}. Best is trial 8 with value: 0.8875.\n",
      "[I 2024-03-21 00:34:50,975] Trial 74 finished with value: 0.7875 and parameters: {'k': 40, 'weights': 'uniform', 'algorythm': 'brute', 'p': 2.2303910518182395}. Best is trial 8 with value: 0.8875.\n",
      "[I 2024-03-21 00:34:51,084] Trial 75 finished with value: 0.875 and parameters: {'k': 25, 'weights': 'uniform', 'algorythm': 'brute', 'p': 1.1396045778566346}. Best is trial 8 with value: 0.8875.\n",
      "[I 2024-03-21 00:34:51,193] Trial 76 finished with value: 0.8375 and parameters: {'k': 10, 'weights': 'distance', 'algorythm': 'kd_tree', 'p': 2.5964233491443958}. Best is trial 8 with value: 0.8875.\n",
      "[I 2024-03-21 00:34:51,315] Trial 77 finished with value: 0.7 and parameters: {'k': 125, 'weights': 'uniform', 'algorythm': 'brute', 'p': 1.6341406818632924}. Best is trial 8 with value: 0.8875.\n",
      "[I 2024-03-21 00:34:51,443] Trial 78 finished with value: 0.8375 and parameters: {'k': 48, 'weights': 'distance', 'algorythm': 'ball_tree', 'p': 1.2642461926614232}. Best is trial 8 with value: 0.8875.\n",
      "[I 2024-03-21 00:34:51,560] Trial 79 finished with value: 0.8125 and parameters: {'k': 67, 'weights': 'uniform', 'algorythm': 'brute', 'p': 1.4583505984151928}. Best is trial 8 with value: 0.8875.\n",
      "[I 2024-03-21 00:34:51,693] Trial 80 finished with value: 0.8 and parameters: {'k': 34, 'weights': 'distance', 'algorythm': 'ball_tree', 'p': 2.132443219112624}. Best is trial 8 with value: 0.8875.\n",
      "[I 2024-03-21 00:34:51,826] Trial 81 finished with value: 0.8375 and parameters: {'k': 19, 'weights': 'uniform', 'algorythm': 'ball_tree', 'p': 2.3184899071079874}. Best is trial 8 with value: 0.8875.\n",
      "[I 2024-03-21 00:34:51,974] Trial 82 finished with value: 0.875 and parameters: {'k': 16, 'weights': 'uniform', 'algorythm': 'ball_tree', 'p': 2.371696666777506}. Best is trial 8 with value: 0.8875.\n",
      "[I 2024-03-21 00:34:52,109] Trial 83 finished with value: 0.8625 and parameters: {'k': 8, 'weights': 'uniform', 'algorythm': 'ball_tree', 'p': 2.6930133524954547}. Best is trial 8 with value: 0.8875.\n",
      "[I 2024-03-21 00:34:52,226] Trial 84 finished with value: 0.8125 and parameters: {'k': 5, 'weights': 'uniform', 'algorythm': 'ball_tree', 'p': 1.1281925029565618}. Best is trial 8 with value: 0.8875.\n",
      "[I 2024-03-21 00:34:52,328] Trial 85 finished with value: 0.8375 and parameters: {'k': 29, 'weights': 'uniform', 'algorythm': 'ball_tree', 'p': 2.8579449099785275}. Best is trial 8 with value: 0.8875.\n",
      "[I 2024-03-21 00:34:52,443] Trial 86 finished with value: 0.7875 and parameters: {'k': 58, 'weights': 'distance', 'algorythm': 'brute', 'p': 1.954360877492228}. Best is trial 8 with value: 0.8875.\n",
      "[I 2024-03-21 00:34:52,576] Trial 87 finished with value: 0.875 and parameters: {'k': 22, 'weights': 'uniform', 'algorythm': 'ball_tree', 'p': 1.7840715875716755}. Best is trial 8 with value: 0.8875.\n",
      "[I 2024-03-21 00:34:52,669] Trial 88 finished with value: 0.675 and parameters: {'k': 199, 'weights': 'distance', 'algorythm': 'brute', 'p': 2.2440460065531114}. Best is trial 8 with value: 0.8875.\n",
      "[I 2024-03-21 00:34:52,793] Trial 89 finished with value: 0.5 and parameters: {'k': 169, 'weights': 'uniform', 'algorythm': 'kd_tree', 'p': 2.509040151239583}. Best is trial 8 with value: 0.8875.\n",
      "[I 2024-03-21 00:34:52,910] Trial 90 finished with value: 0.8625 and parameters: {'k': 43, 'weights': 'distance', 'algorythm': 'ball_tree', 'p': 1.2968804690948492}. Best is trial 8 with value: 0.8875.\n",
      "[I 2024-03-21 00:34:53,029] Trial 91 finished with value: 0.8875 and parameters: {'k': 14, 'weights': 'uniform', 'algorythm': 'brute', 'p': 1.2058220825650696}. Best is trial 8 with value: 0.8875.\n",
      "[I 2024-03-21 00:34:53,144] Trial 92 finished with value: 0.8625 and parameters: {'k': 16, 'weights': 'uniform', 'algorythm': 'brute', 'p': 1.1014215534028522}. Best is trial 8 with value: 0.8875.\n",
      "[I 2024-03-21 00:34:53,289] Trial 93 finished with value: 0.8375 and parameters: {'k': 12, 'weights': 'uniform', 'algorythm': 'brute', 'p': 3.0763547633388493}. Best is trial 8 with value: 0.8875.\n",
      "[I 2024-03-21 00:34:53,409] Trial 94 finished with value: 0.8875 and parameters: {'k': 36, 'weights': 'uniform', 'algorythm': 'brute', 'p': 1.1940754040010688}. Best is trial 8 with value: 0.8875.\n",
      "[I 2024-03-21 00:34:53,540] Trial 95 finished with value: 0.875 and parameters: {'k': 38, 'weights': 'uniform', 'algorythm': 'brute', 'p': 1.2202771173987461}. Best is trial 8 with value: 0.8875.\n",
      "[I 2024-03-21 00:34:53,610] Trial 96 finished with value: 0.875 and parameters: {'k': 29, 'weights': 'uniform', 'algorythm': 'brute', 'p': 1.010379370030456}. Best is trial 8 with value: 0.8875.\n",
      "[I 2024-03-21 00:34:53,686] Trial 97 finished with value: 0.8625 and parameters: {'k': 24, 'weights': 'distance', 'algorythm': 'brute', 'p': 1.3959456590809676}. Best is trial 8 with value: 0.8875.\n",
      "[I 2024-03-21 00:34:53,778] Trial 98 finished with value: 0.825 and parameters: {'k': 36, 'weights': 'distance', 'algorythm': 'brute', 'p': 1.5806745365286872}. Best is trial 8 with value: 0.8875.\n",
      "[I 2024-03-21 00:34:53,879] Trial 99 finished with value: 0.8375 and parameters: {'k': 49, 'weights': 'uniform', 'algorythm': 'brute', 'p': 1.1944407454794033}. Best is trial 8 with value: 0.8875.\n"
     ]
    },
    {
     "name": "stdout",
     "output_type": "stream",
     "text": [
      "Best params:  {'k': 15, 'weights': 'distance', 'algorythm': 'brute', 'p': 1.938973210360973}\n",
      "Best accuracy:  0.8875\n"
     ]
    }
   ],
   "source": [
    "def objective(trial):\n",
    "    n_neighbors = trial.suggest_int(\"k\", 1, 200)\n",
    "    weights = trial.suggest_categorical(\"weights\", [\"uniform\", \"distance\"])\n",
    "    algorithm = trial.suggest_categorical(\"algorythm\", [\"ball_tree\", \"kd_tree\", \"brute\"])\n",
    "    p = trial.suggest_float(\"p\", 1, 5)\n",
    "    y_pred = KNeighborsClassifier(n_neighbors, weights=weights, algorithm=algorithm, p=p).fit(X_train, y_train).predict(X_valid)\n",
    "    return accuracy_score(y_valid, y_pred)\n",
    "\n",
    "\n",
    "study = optuna.create_study(direction=\"maximize\")\n",
    "study.optimize(objective, n_trials=100)\n",
    "\n",
    "print('Best params: ', study.best_params)\n",
    "print('Best accuracy: ', study.best_value)"
   ]
  },
  {
   "cell_type": "code",
   "execution_count": null,
   "metadata": {},
   "outputs": [
    {
     "name": "stdout",
     "output_type": "stream",
     "text": [
      "1\n",
      "2\n",
      "3\n",
      "4\n",
      "5\n",
      "6\n",
      "7\n",
      "8\n",
      "9\n",
      "10\n",
      "11\n",
      "12\n",
      "13\n",
      "14\n",
      "15\n",
      "16\n",
      "17\n",
      "18\n",
      "19\n",
      "20\n"
     ]
    }
   ],
   "source": [
    "def calculate_accuracy(x_test, y_test, x_train, y_train, k):\n",
    "    y_pred = []\n",
    "    for u in x_test:\n",
    "        y_pred.append(knn_classifier(u, x_train, y_train, window=\"not_fixed\", n_neighbors=k, metric='minkowski_distance', kernel='epanechnikov_kernel', p=0.25292267947538427))\n",
    "    return accuracy_score(y_test, y_pred)\n",
    "\n",
    "my_accuracies_test = []\n",
    "my_accuracies_valid = []\n",
    "lib_accuracies_test = []\n",
    "lib_accuracies_valid = []\n",
    "for k in range(1, 40):\n",
    "    my_accuracy_test = calculate_accuracy(X_test, y_test, X_train, y_train, k)\n",
    "    my_accuracy_valid = calculate_accuracy(X_valid, y_valid, X_train, y_train, k)\n",
    "    lib_accuracy_test = accuracy_score(KNeighborsClassifier(k, weights='distance', algorithm='brute', p=1.938973210360973).fit(X_train, y_train).predict(X_test), y_test)\n",
    "    lib_accuracy_valid = accuracy_score(KNeighborsClassifier(k, weights='distance', algorithm='brute', p=1.938973210360973).fit(X_train, y_train).predict(X_valid), y_valid)\n",
    "    \n",
    "    my_accuracies_test.append(my_accuracy_test)\n",
    "    my_accuracies_valid.append(my_accuracies_valid)\n",
    "    lib_accuracies_test.append(lib_accuracy_test)\n",
    "    lib_accuracies_valid.append(lib_accuracies_valid)\n",
    "\n",
    "\n",
    "plt.plot(my_accuracies_test, label=\"My test\")\n",
    "plt.plot(my_accuracies_valid, label=\"My valid\")\n",
    "plt.plot(lib_accuracies_test, label=\"Lib test\")\n",
    "plt.plot(lib_accuracies_valid, label=\"Lib valid\")\n",
    "plt.xlabel('Neighbors (k)')\n",
    "plt.ylabel('Accuracy')\n",
    "plt.title('Accuracy vs. Neighbors')\n",
    "plt.grid(True)\n",
    "plt.show()"
   ]
  }
 ],
 "metadata": {
  "kernelspec": {
   "display_name": "Python 3",
   "language": "python",
   "name": "python3"
  },
  "language_info": {
   "codemirror_mode": {
    "name": "ipython",
    "version": 3
   },
   "file_extension": ".py",
   "mimetype": "text/x-python",
   "name": "python",
   "nbconvert_exporter": "python",
   "pygments_lexer": "ipython3",
   "version": "3.12.2"
  }
 },
 "nbformat": 4,
 "nbformat_minor": 2
}
